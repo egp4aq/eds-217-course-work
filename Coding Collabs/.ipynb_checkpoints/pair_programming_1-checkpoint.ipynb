{
 "cells": [
  {
   "cell_type": "markdown",
   "id": "ca643b20-db32-49d6-8bfa-ae2ee24c49fa",
   "metadata": {},
   "source": [
    "### LISTS"
   ]
  },
  {
   "cell_type": "code",
   "execution_count": null,
   "id": "2e1b9c59-4852-4570-8804-31420f26747c",
   "metadata": {
    "tags": []
   },
   "outputs": [],
   "source": [
    "fruits = ['apple','strawberry','mango']"
   ]
  },
  {
   "cell_type": "code",
   "execution_count": null,
   "id": "ccc931bf-5b68-47d0-8466-0e50aa8a3567",
   "metadata": {
    "tags": []
   },
   "outputs": [],
   "source": [
    "fruits.insert(4,'grape')\n",
    "print(fruits)"
   ]
  },
  {
   "cell_type": "code",
   "execution_count": null,
   "id": "386b7329-5614-4b0e-a9f3-058e4cf64b38",
   "metadata": {
    "tags": []
   },
   "outputs": [],
   "source": [
    "fruits.remove('strawberry')\n",
    "print(fruits)"
   ]
  },
  {
   "cell_type": "code",
   "execution_count": null,
   "id": "98f8bea7-5331-4496-8816-94ade1fcabcb",
   "metadata": {
    "tags": []
   },
   "outputs": [],
   "source": [
    "print(fruits)"
   ]
  },
  {
   "cell_type": "markdown",
   "id": "0d2e7df0-577b-4627-8421-1fa8003b9ca1",
   "metadata": {},
   "source": [
    "### DICTIONARIES"
   ]
  },
  {
   "cell_type": "code",
   "execution_count": null,
   "id": "2a366d80-d4ed-464e-b9bd-ee343f38c643",
   "metadata": {
    "tags": []
   },
   "outputs": [],
   "source": [
    "inventory = {\n",
    "    \"book\": 3,\n",
    "    \"table\": 5,\n",
    "    \"chair\": 10\n",
    "}"
   ]
  },
  {
   "cell_type": "code",
   "execution_count": null,
   "id": "7ffb5ecd-61f6-48ae-9a2e-5ea7b101b40e",
   "metadata": {
    "tags": []
   },
   "outputs": [],
   "source": [
    "inventory[\"bookcase\"] = 5"
   ]
  },
  {
   "cell_type": "code",
   "execution_count": null,
   "id": "52c57bc7-9af3-4e0c-950c-e1a128b70b53",
   "metadata": {
    "tags": []
   },
   "outputs": [],
   "source": [
    "print(inventory)"
   ]
  },
  {
   "cell_type": "code",
   "execution_count": null,
   "id": "a5b4fdea-4c74-4471-9950-8cfeae4d95fc",
   "metadata": {
    "tags": []
   },
   "outputs": [],
   "source": [
    "inventory[\"book\"] = 100"
   ]
  },
  {
   "cell_type": "code",
   "execution_count": null,
   "id": "dc944ab0-ea0d-4bcc-ae96-b12c3827ce5d",
   "metadata": {
    "tags": []
   },
   "outputs": [],
   "source": [
    "print(inventory)"
   ]
  },
  {
   "cell_type": "markdown",
   "id": "843f70d7-1eb7-4fc3-9248-26bb7349a040",
   "metadata": {},
   "source": [
    "### SETS"
   ]
  },
  {
   "cell_type": "code",
   "execution_count": null,
   "id": "aea4ee5f-e975-4dc9-b2e6-0f9f2227a31c",
   "metadata": {
    "tags": []
   },
   "outputs": [],
   "source": [
    "evens = {2, 4, 6, 8, 10}\n",
    "odds = {1, 3, 5, 7, 9}\n",
    "print(evens)\n",
    "print(odds)"
   ]
  },
  {
   "cell_type": "code",
   "execution_count": null,
   "id": "b6de105e-7176-4e0c-8af0-636dff9eae05",
   "metadata": {
    "tags": []
   },
   "outputs": [],
   "source": [
    "evens.union(odds)"
   ]
  },
  {
   "cell_type": "code",
   "execution_count": null,
   "id": "52afcc13-8505-442c-8185-c81febb8ab1e",
   "metadata": {
    "tags": []
   },
   "outputs": [],
   "source": [
    "evens.intersection(odds)"
   ]
  },
  {
   "cell_type": "code",
   "execution_count": null,
   "id": "660a40ca-5e23-4252-b5cf-12fecea89360",
   "metadata": {
    "tags": []
   },
   "outputs": [],
   "source": [
    "evens.add(12)\n",
    "print(evens)"
   ]
  },
  {
   "cell_type": "code",
   "execution_count": null,
   "id": "676bc53f-0d78-42d2-96bd-b5cd68edcbf7",
   "metadata": {
    "tags": []
   },
   "outputs": [],
   "source": [
    "numbers = [1, 2, 2, 3, 3, 3, 4, 4, 5]"
   ]
  },
  {
   "cell_type": "code",
   "execution_count": null,
   "id": "020a09b6-ce45-43a7-a5a8-bea3ee36d992",
   "metadata": {
    "tags": []
   },
   "outputs": [],
   "source": [
    "set_from_list = set(numbers)\n",
    "print(set_from_list)\n",
    "\n",
    "numbers_list = list(set_from_list)\n",
    "print(numbers_list)"
   ]
  },
  {
   "cell_type": "markdown",
   "id": "50136683-32a8-42c9-9f5a-ef782dfe0b59",
   "metadata": {},
   "source": [
    "#### Conclusion questions"
   ]
  },
  {
   "cell_type": "markdown",
   "id": "4867f293-552b-4812-b993-4b0c6d845d51",
   "metadata": {},
   "source": [
    "1. What are the main differences between lists, dictionaries, and sets?\n",
    "Lists can have duplicates while sets and dictionaries cannot. They are all mutable. (although keys are immutable).\n",
    "Sets are unordered while lists and dictionaries are ordered. \n",
    "2. In what situations would you prefer to use a set over a list or dictionary?\n",
    "If we want to take out duplicates. \n",
    "3. How did working in pairs help you understand these concepts better?\n",
    "I got to hear Kimmy's POV. Very helpful. Ditto - Kimmy"
   ]
  }
 ],
 "metadata": {
  "kernelspec": {
   "display_name": "Python 3.10.0",
   "language": "python",
   "name": "python3.10.0"
  },
  "language_info": {
   "codemirror_mode": {
    "name": "ipython",
    "version": 3
   },
   "file_extension": ".py",
   "mimetype": "text/x-python",
   "name": "python",
   "nbconvert_exporter": "python",
   "pygments_lexer": "ipython3",
   "version": "3.10.0"
  }
 },
 "nbformat": 4,
 "nbformat_minor": 5
}
