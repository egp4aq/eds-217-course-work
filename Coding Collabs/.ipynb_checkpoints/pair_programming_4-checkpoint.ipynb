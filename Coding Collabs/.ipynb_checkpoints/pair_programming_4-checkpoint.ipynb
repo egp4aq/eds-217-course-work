{
 "cells": [
  {
   "cell_type": "code",
   "execution_count": null,
   "id": "703b3a4a-5c37-4ef2-a7eb-c1b74d14e2c1",
   "metadata": {
    "tags": []
   },
   "outputs": [],
   "source": [
    "import pandas as pd\n",
    "import numpy as np\n",
    "\n",
    "# Load the dataset\n",
    "url = \"https://raw.githubusercontent.com/rfordatascience/tidytuesday/master/data/2019/2019-09-17/national_parks.csv\"\n",
    "parks_df = pd.read_csv(url)"
   ]
  },
  {
   "cell_type": "markdown",
   "id": "fc0ced67-5e21-4213-a049-d754237ed2f7",
   "metadata": {
    "tags": []
   },
   "source": [
    "## Task 1: Data Exploration and Cleaning"
   ]
  },
  {
   "cell_type": "code",
   "execution_count": null,
   "id": "8df5fb63-8ae2-475d-bcde-e949d385d6a7",
   "metadata": {
    "tags": []
   },
   "outputs": [],
   "source": [
    "# 1 How many rows and columns does the DataFrame have?\n",
    "print(f\"This DataFrame has shape {parks_df.shape}\")"
   ]
  },
  {
   "cell_type": "code",
   "execution_count": null,
   "id": "f7310869-ec09-45ec-ae6c-46d110ae1840",
   "metadata": {
    "tags": []
   },
   "outputs": [],
   "source": [
    "# 2 What are the column names?\n",
    "print(f\"The column names are {list(parks_df.columns)}\")"
   ]
  },
  {
   "cell_type": "code",
   "execution_count": null,
   "id": "221f49ca-3e33-49fa-b864-29ed20820d43",
   "metadata": {
    "tags": []
   },
   "outputs": [],
   "source": [
    "# 3 What data types are used in each column?\n",
    "print(f\"The data types in each column are {parks_df.dtypes}\")"
   ]
  },
  {
   "cell_type": "code",
   "execution_count": null,
   "id": "611c1254-f791-4b8b-a060-6354c0509628",
   "metadata": {
    "tags": []
   },
   "outputs": [],
   "source": [
    "# 4 Are there any missing values in the DataFrame?\n",
    "print(parks_df.info)"
   ]
  },
  {
   "cell_type": "code",
   "execution_count": null,
   "id": "61754dcf-d26d-4ef3-a460-b7f06acc5db5",
   "metadata": {
    "tags": []
   },
   "outputs": [],
   "source": [
    "# 5 Remove the rows where year is Total (these are summary rows we don’t need for our analysis).\n",
    "parks_df = parks_df[parks_df['year'] != 'Total']"
   ]
  },
  {
   "cell_type": "code",
   "execution_count": null,
   "id": "fdbbc739-7245-4727-93fb-43290c3f6aa9",
   "metadata": {
    "tags": []
   },
   "outputs": [],
   "source": [
    "# 6. Convert the year column to numeric type.\n",
    "pd.to_numeric(parks_df['year'])"
   ]
  },
  {
   "cell_type": "markdown",
   "id": "8c511bde-b0aa-4c9c-a49f-61c7d039330d",
   "metadata": {},
   "source": [
    "## Task 2: Basic Filtering and Analysis"
   ]
  },
  {
   "cell_type": "code",
   "execution_count": null,
   "id": "b18b83cc-aa1e-4a5d-a43b-9b93e14689dd",
   "metadata": {
    "tags": []
   },
   "outputs": [],
   "source": [
    "# 1 Create a new DataFrame containing only data for the years 2000-2015 and only data for National Parks (unit_type is National Park)"
   ]
  },
  {
   "cell_type": "code",
   "execution_count": null,
   "id": "f8371341-4a13-4d51-8418-668184f607f8",
   "metadata": {
    "tags": []
   },
   "outputs": [],
   "source": [
    "correct_years = (parks_df['year'] >= '2000') & (parks_df['year'] <= '2015')\n",
    "nat_parks_df = parks_df['unit_type'] == 'National Park'\n",
    "\n",
    "sub_parks_df = parks_df[correct_years & nat_parks_df]\n",
    "sub_parks_df.head()"
   ]
  },
  {
   "cell_type": "code",
   "execution_count": null,
   "id": "9ac430e7-e651-4183-b4b0-7a21c2d7d5e4",
   "metadata": {
    "tags": []
   },
   "outputs": [],
   "source": [
    "# 2. Find the total number of visitors across all National Parks for each year from 2000-2015.\n",
    "total_visitors = sub_parks_df['visitors'].sum()\n",
    "print(total_visitors)"
   ]
  },
  {
   "cell_type": "code",
   "execution_count": null,
   "id": "8847ee7b-e5f2-4f73-886d-b84e36f3bcce",
   "metadata": {
    "tags": []
   },
   "outputs": [],
   "source": [
    "# 3. Calculate the average yearly visitors for each National Park during the 2000-2015 period.\n",
    "grouped_parks = sub_parks_df.groupby('parkname').sum('year')\n",
    "grouped_parks.head()"
   ]
  },
  {
   "cell_type": "code",
   "execution_count": null,
   "id": "dd36f5ea-c78e-4de8-8db5-933502378ac4",
   "metadata": {
    "tags": []
   },
   "outputs": [],
   "source": [
    "# 4. Identify the top 5 most visited National Parks (based on total visitors) during the 2000-2015 period.\n",
    "grouped_parks['visitors'].sort_values(ascending=False).head()"
   ]
  }
 ],
 "metadata": {
  "kernelspec": {
   "display_name": "Python 3.10.0",
   "language": "python",
   "name": "python3.10.0"
  },
  "language_info": {
   "codemirror_mode": {
    "name": "ipython",
    "version": 3
   },
   "file_extension": ".py",
   "mimetype": "text/x-python",
   "name": "python",
   "nbconvert_exporter": "python",
   "pygments_lexer": "ipython3",
   "version": "3.10.0"
  }
 },
 "nbformat": 4,
 "nbformat_minor": 5
}
