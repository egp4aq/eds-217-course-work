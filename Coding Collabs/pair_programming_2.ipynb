{
 "cells": [
  {
   "cell_type": "code",
   "execution_count": null,
   "id": "ff009bae-cc79-49f8-8f4e-483a78da7994",
   "metadata": {
    "tags": []
   },
   "outputs": [],
   "source": [
    "temperature = 30\n",
    "if temperature > 25:\n",
    "    print(\"It's a hot day, stay hydrated!\")\n",
    "else:\n",
    "    print(\"Enjoy the pleasant weather!\")"
   ]
  },
  {
   "cell_type": "code",
   "execution_count": null,
   "id": "893d639d-b511-49e3-b5a2-cfc275aabba8",
   "metadata": {
    "tags": []
   },
   "outputs": [],
   "source": [
    "score = 90\n",
    "if score >= 90:\n",
    "    print(\"A\")\n",
    "elif score >= 80:\n",
    "    print(\"B\")\n",
    "elif score >= 70:\n",
    "    print(\"C\")\n",
    "elif score >= 60:\n",
    "    print(\"D\")\n",
    "else:\n",
    "    print(\"F\")"
   ]
  },
  {
   "cell_type": "code",
   "execution_count": null,
   "id": "b1105c72-f187-4326-a5e3-0a31f27492b5",
   "metadata": {
    "tags": []
   },
   "outputs": [],
   "source": [
    "for i in range(1, 6, 1):\n",
    "    print(f\"{i} sheep\")"
   ]
  },
  {
   "cell_type": "code",
   "execution_count": null,
   "id": "adfcac8e-1489-4be3-88fe-dd20f20f67f2",
   "metadata": {
    "tags": []
   },
   "outputs": [],
   "source": [
    "total = 0\n",
    "for i in range (1, 11, 1):\n",
    "    total += 1\n",
    "print(total)"
   ]
  },
  {
   "cell_type": "code",
   "execution_count": null,
   "id": "f52251ca-3e7d-4d80-949d-808e98fe85d2",
   "metadata": {
    "tags": []
   },
   "outputs": [],
   "source": [
    "countdown = 5\n",
    "while countdown > 0:\n",
    "    print(countdown)\n",
    "    countdown -= 1\n",
    "print(\"Blast off!!!!!!!!\")"
   ]
  },
  {
   "cell_type": "code",
   "execution_count": null,
   "id": "32c0bb2b-67e0-4539-a0b4-ff6f3f27ee6b",
   "metadata": {},
   "outputs": [],
   "source": []
  }
 ],
 "metadata": {
  "kernelspec": {
   "display_name": "Python 3.10.0",
   "language": "python",
   "name": "python3.10.0"
  },
  "language_info": {
   "codemirror_mode": {
    "name": "ipython",
    "version": 3
   },
   "file_extension": ".py",
   "mimetype": "text/x-python",
   "name": "python",
   "nbconvert_exporter": "python",
   "pygments_lexer": "ipython3",
   "version": "3.10.0"
  }
 },
 "nbformat": 4,
 "nbformat_minor": 5
}
