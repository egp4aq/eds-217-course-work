{
 "cells": [
  {
   "cell_type": "code",
   "execution_count": null,
   "id": "aad6cf1b-4a3e-4fc5-b25c-ab9bd0dfa703",
   "metadata": {
    "tags": []
   },
   "outputs": [],
   "source": [
    "import pandas as pd\n",
    "import numpy as np\n",
    "\n",
    "# Create a sample Series\n",
    "fruits = pd.Series(['apple', 'banana', 'cherry', 'date', 'elderberry'], name='Fruits')\n",
    "print(fruits)"
   ]
  },
  {
   "cell_type": "code",
   "execution_count": null,
   "id": "0bc5f635-43ad-4cc0-895f-79d5100d20aa",
   "metadata": {
    "tags": []
   },
   "outputs": [],
   "source": [
    "prices = pd.Series([0.5, 0.3, 1.0, 1.5, 2.0], index=fruits)\n",
    "print(prices)"
   ]
  },
  {
   "cell_type": "code",
   "execution_count": null,
   "id": "52dda597-e070-476d-9358-81e2ea5af9c8",
   "metadata": {
    "tags": []
   },
   "outputs": [],
   "source": [
    "# 1\n",
    "tot_price = prices.sum()\n",
    "print(tot_price)\n",
    "# 2\n",
    "max_price = prices.max()\n",
    "print(max_price)\n",
    "\n",
    "# 3\n",
    "for price in prices:\n",
    "    if price > 1:\n",
    "        price = price - (price*0.1)\n",
    "        \n",
    "    print(price)\n"
   ]
  },
  {
   "cell_type": "code",
   "execution_count": null,
   "id": "65a3c69b-ed6d-4361-b789-50bcf7281c3b",
   "metadata": {
    "tags": []
   },
   "outputs": [],
   "source": [
    "# 1\n",
    "avg_price = prices.mean()\n",
    "print(avg_price)\n",
    "\n",
    "# 2\n",
    "count = 0\n",
    "for price in prices:\n",
    "    if price < 1:\n",
    "        count += 1\n",
    "print(count)\n",
    "\n",
    "# 3\n",
    "price_range = prices.max() - prices.min()\n",
    "print(price_range)"
   ]
  },
  {
   "cell_type": "code",
   "execution_count": null,
   "id": "689d5276-d7d4-40e6-8159-c96dbf6f2f8d",
   "metadata": {
    "tags": []
   },
   "outputs": [],
   "source": [
    "# 1\n",
    "prices['fig'] = 1.2\n",
    "print(prices)\n",
    "fruits[5] = 'fig'\n",
    "print(fruits)\n",
    "# 2\n",
    "prices=prices.drop(labels=['banana'])\n",
    "fruits=fruits.drop(labels=[1])\n",
    "print(prices)\n",
    "print(fruits)"
   ]
  },
  {
   "cell_type": "code",
   "execution_count": null,
   "id": "cecbda3b-069d-4dc1-a740-a2fa46fde3c8",
   "metadata": {
    "tags": []
   },
   "outputs": [],
   "source": [
    "# 3\n",
    "prices_sorted = prices.sort_values()\n",
    "print(prices_sorted)\n",
    "fruits_sorted = fruits.sort_values()\n",
    "print(fruits_sorted)"
   ]
  },
  {
   "cell_type": "code",
   "execution_count": null,
   "id": "2ee062ef-9b8a-48a3-91ad-af1521c13109",
   "metadata": {},
   "outputs": [],
   "source": []
  }
 ],
 "metadata": {
  "kernelspec": {
   "display_name": "Python 3.10.0",
   "language": "python",
   "name": "python3.10.0"
  },
  "language_info": {
   "codemirror_mode": {
    "name": "ipython",
    "version": 3
   },
   "file_extension": ".py",
   "mimetype": "text/x-python",
   "name": "python",
   "nbconvert_exporter": "python",
   "pygments_lexer": "ipython3",
   "version": "3.10.0"
  }
 },
 "nbformat": 4,
 "nbformat_minor": 5
}
