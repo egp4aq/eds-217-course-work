{
 "cells": [
  {
   "cell_type": "markdown",
   "id": "2f8efbcf-9b52-4c8c-827b-6de2c08d9d94",
   "metadata": {},
   "source": [
    "## Setup"
   ]
  },
  {
   "cell_type": "code",
   "execution_count": null,
   "id": "b979574f-f50d-41d5-9d9e-f0e3b12b9c82",
   "metadata": {
    "tags": []
   },
   "outputs": [],
   "source": [
    "import pandas as pd\n",
    "import matplotlib.pyplot as plt\n",
    "import seaborn as sns\n",
    "\n",
    "# Load the temperature anomaly dataset\n",
    "temp_url = \"https://bit.ly/monthly_temp\"\n",
    "temp_df = pd.read_csv(temp_url, parse_dates=['Date'])\n",
    "\n",
    "# Load the CO2 concentration dataset\n",
    "co2_url = \"https://bit.ly/monthly_CO2\"\n",
    "co2_df = pd.read_csv(co2_url, parse_dates=['Date'])\n",
    "\n",
    "print(\"Temperature data:\")\n",
    "print(temp_df.head())\n",
    "print(\"\\nCO2 data:\")\n",
    "print(co2_df.head())"
   ]
  },
  {
   "cell_type": "markdown",
   "id": "6daeee7f-3d6e-4c07-9fac-e06adfe08196",
   "metadata": {},
   "source": [
    "## Task 1: Data Preparation\n",
    "1. Set the ‘Date’ column as the index for both dataframes.\n",
    "2. Ensure that there are no missing values in either dataset."
   ]
  },
  {
   "cell_type": "code",
   "execution_count": null,
   "id": "8f4b3542-e49a-41f8-88df-42bd74e30ad6",
   "metadata": {
    "tags": []
   },
   "outputs": [],
   "source": [
    "temp_df.set_index(\"Date\",inplace=True)\n",
    "co2_df.set_index(\"Date\",inplace=True)"
   ]
  },
  {
   "cell_type": "code",
   "execution_count": null,
   "id": "6755db83-521a-4cbf-9360-613e9d63e4dd",
   "metadata": {
    "tags": []
   },
   "outputs": [],
   "source": [
    "print(temp_df)\n",
    "print(co2_df)"
   ]
  },
  {
   "cell_type": "code",
   "execution_count": null,
   "id": "73bb3c5e-93c2-4b07-9e5d-f28120f8c700",
   "metadata": {
    "tags": []
   },
   "outputs": [],
   "source": [
    "print(temp_df.isnull().sum())\n",
    "print(co2_df.isnull().sum())"
   ]
  },
  {
   "cell_type": "markdown",
   "id": "c2fe4d17-8608-496d-95bd-d6977206cf55",
   "metadata": {},
   "source": [
    "## Task 2: Joining Datasets\n",
    "1. Merge the temperature and CO2 datasets based on their date index.\n",
    "2. Handle any missing values that may have been introduced by the merge.\n",
    "3. Create some plots showing temperature anomalies and CO2 concentrations over time using pandas built-in plotting functions."
   ]
  },
  {
   "cell_type": "code",
   "execution_count": null,
   "id": "efc2a873-d5ec-4d74-8492-60edaa444ab3",
   "metadata": {
    "tags": []
   },
   "outputs": [],
   "source": [
    "merged_df = pd.merge(temp_df, co2_df, on='Date',how='inner')\n",
    "merged_df.info()"
   ]
  },
  {
   "cell_type": "code",
   "execution_count": null,
   "id": "33787604-b7fd-4b35-8fe9-340d3e23ba47",
   "metadata": {
    "tags": []
   },
   "outputs": [],
   "source": [
    "merged_df.isnull().sum()"
   ]
  },
  {
   "cell_type": "code",
   "execution_count": null,
   "id": "3b5fd492-0982-44da-84a8-46f3f9dcf2e1",
   "metadata": {
    "tags": []
   },
   "outputs": [],
   "source": [
    "merged_df.plot(y='CO2Concentration')\n",
    "merged_df.plot(y='MonthlyAnomaly')"
   ]
  },
  {
   "cell_type": "markdown",
   "id": "bbe4a6db-8c4a-45a3-ad6c-b3227770d191",
   "metadata": {},
   "source": [
    "## Task 3: Time Series Analysis\n",
    "1. Resample the data to annual averages.\n",
    "2. Calculate the year-over-year change in temperature anomalies and CO2 concentrations.\n",
    "3. Create a scatter plot (use the plt.scatter() function) of annual temperature anomalies vs CO2 concentrations."
   ]
  },
  {
   "cell_type": "code",
   "execution_count": null,
   "id": "0000df7f-86bd-429a-a992-22db2728ac44",
   "metadata": {
    "tags": []
   },
   "outputs": [],
   "source": [
    "annual_avgs = merged_df.copy()\n",
    "annual_avgs = annual_avgs.groupby(merged_df.index.year).mean()\n",
    "print(annual_avgs)"
   ]
  },
  {
   "cell_type": "code",
   "execution_count": null,
   "id": "f83fb3b5-06bb-4552-a283-10c1dcca877f",
   "metadata": {
    "tags": []
   },
   "outputs": [],
   "source": [
    "# def year_over_year(df):\n",
    "#     anomaly_year = annual_avgs['MonthlyAnomaly'].diff\n",
    "#     CO2_year = annual_avgs['CO2Concentration'].diff\n",
    "#     return anomaly_year, CO2_year \n",
    "\n",
    "# merged_df['year_over_year'] = merged_df.index.to_series.apply(diff)"
   ]
  },
  {
   "cell_type": "code",
   "execution_count": null,
   "id": "3fb6a48a-7275-48ed-975c-7c713898b9ea",
   "metadata": {
    "tags": []
   },
   "outputs": [],
   "source": [
    "annual_avgs['year_over_year_anomaly'] = annual_avgs['MonthlyAnomaly'].diff()\n",
    "annual_avgs['year_over_year_co2'] = annual_avgs['CO2Concentration'].diff()\n",
    "annual_avgs.head()"
   ]
  },
  {
   "cell_type": "code",
   "execution_count": null,
   "id": "4c6582eb-11a6-4f89-9973-ffb2da4313af",
   "metadata": {
    "tags": []
   },
   "outputs": [],
   "source": [
    "#year_over_year(2020)"
   ]
  },
  {
   "cell_type": "code",
   "execution_count": null,
   "id": "5ae53326-fc35-459e-bde4-b5abdcd59856",
   "metadata": {
    "tags": []
   },
   "outputs": [],
   "source": [
    "plt.scatter(x=annual_avgs['year_over_year_anomaly'], y=annual_avgs['year_over_year_co2'])"
   ]
  },
  {
   "cell_type": "markdown",
   "id": "c40d8fa2-f45e-4f2e-97c0-256c3682f5c7",
   "metadata": {},
   "source": [
    "## Task 4: Seasonal Analysis\n",
    "1. Create a function to extract the season from a given date (hint: use the date.month attribute and if-elif-else to assign the season in your function).\n",
    "2. Use the function to create a new column called Season\n",
    "3. Calculate the average temperature anomaly and CO2 concentration for each season.\n",
    "4. Create a box plot (use sns.boxplot) showing the distribution of temperature anomalies for each season."
   ]
  },
  {
   "cell_type": "code",
   "execution_count": null,
   "id": "1ed457e7-8543-423c-af08-459c287595f3",
   "metadata": {
    "tags": []
   },
   "outputs": [],
   "source": [
    "def season_date(date):\n",
    "    our_month = date.month\n",
    "    if our_month in (3, 4, 5):\n",
    "        season = \"Spring\"\n",
    "    elif our_month in (6, 7, 8):\n",
    "        season = \"Summer\"\n",
    "    elif our_month in (9, 10, 11):\n",
    "        season = \"Fall\"\n",
    "    elif our_month in (12, 1, 2):\n",
    "        season = \"Winter\"\n",
    "    return(season)"
   ]
  },
  {
   "cell_type": "code",
   "execution_count": null,
   "id": "a7bb75f8-27bd-4ae6-8f3b-8dcf0411c601",
   "metadata": {
    "tags": []
   },
   "outputs": [],
   "source": [
    "merged_df['Season'] = merged_df.index.map(season_date)\n",
    "merged_df.head()"
   ]
  },
  {
   "cell_type": "code",
   "execution_count": null,
   "id": "472acd5f-f5de-491d-ba4e-9a5b471b5545",
   "metadata": {
    "tags": []
   },
   "outputs": [],
   "source": [
    "merged_df_group = merged_df.groupby('Season').mean('MonthlyAnomaly')\n",
    "merged_df_group = merged_df.groupby('Season').mean('CO2Concentration')\n",
    "\n",
    "merged_df_group.head()"
   ]
  },
  {
   "cell_type": "code",
   "execution_count": null,
   "id": "f0a77a0f-7ee5-4db9-8324-2cab7fcf8d58",
   "metadata": {},
   "outputs": [],
   "source": [
    "sns.boxplot(merged_df_group, MonthlyAnomaly, )"
   ]
  }
 ],
 "metadata": {
  "kernelspec": {
   "display_name": "Python 3.10.0",
   "language": "python",
   "name": "python3.10.0"
  },
  "language_info": {
   "codemirror_mode": {
    "name": "ipython",
    "version": 3
   },
   "file_extension": ".py",
   "mimetype": "text/x-python",
   "name": "python",
   "nbconvert_exporter": "python",
   "pygments_lexer": "ipython3",
   "version": "3.10.0"
  }
 },
 "nbformat": 4,
 "nbformat_minor": 5
}
