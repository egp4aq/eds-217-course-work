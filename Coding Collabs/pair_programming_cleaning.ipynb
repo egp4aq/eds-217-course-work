{
 "cells": [
  {
   "cell_type": "markdown",
   "id": "7ac8e61e-d1dc-46eb-9729-10a9050ff0b1",
   "metadata": {},
   "source": [
    "0. Setup"
   ]
  },
  {
   "cell_type": "code",
   "execution_count": null,
   "id": "00cf4024-6c1a-4dfc-82c8-e8d6488010be",
   "metadata": {
    "tags": []
   },
   "outputs": [],
   "source": [
    "import pandas as pd\n",
    "import numpy as np\n",
    "\n",
    "url = 'https://bit.ly/messy_csv'\n",
    "messy_df = pd.read_csv(url)\n",
    "\n",
    "messy_df.head()"
   ]
  },
  {
   "cell_type": "markdown",
   "id": "dacbabb6-1ce1-4cda-9472-b2cf1e058c1a",
   "metadata": {},
   "source": [
    "1. Removing duplicates"
   ]
  },
  {
   "cell_type": "code",
   "execution_count": null,
   "id": "049243c7-c827-4367-9328-d86c21c0ef09",
   "metadata": {
    "tags": []
   },
   "outputs": [],
   "source": [
    "df_unique = messy_df.drop_duplicates()\n",
    "df_unique.head()"
   ]
  },
  {
   "cell_type": "markdown",
   "id": "897bc39a-0bbb-4b71-871a-f857266509c2",
   "metadata": {},
   "source": [
    "2. Handling missing values (either fill or dropna to remove rows with missing data)"
   ]
  },
  {
   "cell_type": "code",
   "execution_count": null,
   "id": "99bd1798-eae2-4ee8-936b-f3f9ac9e10fb",
   "metadata": {
    "tags": []
   },
   "outputs": [],
   "source": [
    "df_cleaned = df_unique.dropna().copy()\n",
    "df_cleaned.head()"
   ]
  },
  {
   "cell_type": "markdown",
   "id": "699b7a13-097d-423d-95d9-ff603754bad3",
   "metadata": {},
   "source": [
    "3. Ensuring consistent data types (dates, strings)"
   ]
  },
  {
   "cell_type": "code",
   "execution_count": null,
   "id": "e1c97a99-0944-41ab-b6bc-4319481920fb",
   "metadata": {
    "tags": []
   },
   "outputs": [],
   "source": [
    "df_cleaned['collection date'] = pd.to_datetime(df_cleaned['collection date'])\n",
    "print(df_cleaned['collection date'].apply(type))\n",
    "\n",
    "df_cleaned['temperature_c'] = df_cleaned['temperature_c'].astype(float)\n",
    "print(df_cleaned['temperature_c'].apply(type))\n",
    "\n",
    "df_cleaned['pH'] = df_cleaned['pH'].astype(float)\n",
    "print(df_cleaned['pH'].apply(type))\n",
    "\n",
    "df_cleaned['dissolved_oxygen_mg_L'] = df_cleaned['dissolved_oxygen_mg_L'].astype(float)\n",
    "print(df_cleaned['dissolved_oxygen_mg_L'].apply(type))"
   ]
  },
  {
   "cell_type": "markdown",
   "id": "669e9b88-7340-4052-aa74-4d8c4172f589",
   "metadata": {},
   "source": [
    "4. Formatting the ‘site’ column for consistency"
   ]
  },
  {
   "cell_type": "code",
   "execution_count": null,
   "id": "abbc15aa-5bbd-4d2e-a4fb-a6b41bd9e1e5",
   "metadata": {
    "tags": []
   },
   "outputs": [],
   "source": [
    "df_cleaned.loc[0,'site'] = \"site_a\"\n",
    "df_cleaned.loc[2,'site'] = \"site_c\"\n",
    "df_cleaned.head()"
   ]
  },
  {
   "cell_type": "markdown",
   "id": "a123745a-22bb-49d9-b0cd-d200712470d2",
   "metadata": {},
   "source": [
    "5. Making sure all column names are lower case, without whitespace."
   ]
  },
  {
   "cell_type": "code",
   "execution_count": null,
   "id": "315d949c-9d96-4aed-b1eb-64ce5333be9c",
   "metadata": {
    "tags": []
   },
   "outputs": [],
   "source": [
    "# df_cleaned = df_cleaned.rename(columns={'pH': 'ph', 'collection date': 'collection_date'})\n",
    "df_cleaned = [col.lower().replace(\" \", \"_\") for col in df_cleaned]\n",
    "print(df_cleaned)"
   ]
  }
 ],
 "metadata": {
  "kernelspec": {
   "display_name": "Python 3.10.0",
   "language": "python",
   "name": "python3.10.0"
  },
  "language_info": {
   "codemirror_mode": {
    "name": "ipython",
    "version": 3
   },
   "file_extension": ".py",
   "mimetype": "text/x-python",
   "name": "python",
   "nbconvert_exporter": "python",
   "pygments_lexer": "ipython3",
   "version": "3.10.0"
  }
 },
 "nbformat": 4,
 "nbformat_minor": 5
}
