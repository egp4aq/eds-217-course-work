{
 "cells": [
  {
   "cell_type": "code",
   "execution_count": null,
   "id": "b417ee4e-684e-4d89-964f-5a8f6a5c8a24",
   "metadata": {
    "tags": []
   },
   "outputs": [],
   "source": [
    "import pandas as pd\n",
    "import seaborn as sns\n",
    "import matplotlib.pyplot as plt\n",
    "import numpy as np\n",
    "\n",
    "# Set the style for better-looking plots\n",
    "sns.set_style(\"whitegrid\")\n",
    "\n",
    "# Load the Palmer Penguins dataset\n",
    "penguins = sns.load_dataset(\"penguins\")\n",
    "\n",
    "# Display the first few rows and basic information about the dataset\n",
    "print(penguins.head())\n",
    "print(penguins.info())"
   ]
  },
  {
   "cell_type": "markdown",
   "id": "2e9d3145-5e64-4939-b8f0-08bcecd20ecc",
   "metadata": {},
   "source": [
    "## Task 1: Exploring Distributions with Histograms"
   ]
  },
  {
   "cell_type": "markdown",
   "id": "eb76f53a-bf1c-4af4-965d-e90b9bd410ee",
   "metadata": {},
   "source": [
    "1. Create histograms for ‘bill_length_mm’, ‘bill_depth_mm’, ‘flipper_length_mm’, and ‘body_mass_g’."
   ]
  },
  {
   "cell_type": "code",
   "execution_count": null,
   "id": "cfa76cc6-d59d-47aa-b72e-34496c5c7847",
   "metadata": {
    "tags": []
   },
   "outputs": [],
   "source": [
    "fig, axes = plt.subplots(2, 2, figsize = (8, 8))\n",
    "ax1 = sns.histplot(data = penguins, x = 'bill_length_mm', bins = 20, ax = axes[0,0])\n",
    "ax2 = sns.histplot(data = penguins, x = 'bill_depth_mm', bins = 20, ax = axes[1,0])\n",
    "ax3 = sns.histplot(data = penguins, x = 'flipper_length_mm', bins = 20, ax = axes[0,1])\n",
    "ax4 = sns.histplot(data = penguins, x = 'body_mass_g', bins = 20, ax = axes[1,1])"
   ]
  },
  {
   "cell_type": "markdown",
   "id": "11fbe558-ee2e-4077-8316-dafba47cae83",
   "metadata": {},
   "source": [
    "2. Experiment with different numbers of bins to see how it affects the visualization."
   ]
  },
  {
   "cell_type": "code",
   "execution_count": null,
   "id": "3513b5c0-1fb0-45b7-8d16-5221e09ec4f5",
   "metadata": {},
   "outputs": [],
   "source": [
    "# done above"
   ]
  },
  {
   "cell_type": "markdown",
   "id": "e6b6f944-6650-4acf-974a-3585c951f5ab",
   "metadata": {},
   "source": [
    "3. Try using sns.histplot() with the ‘kde’ parameter set to True to overlay a kernel density estimate."
   ]
  },
  {
   "cell_type": "code",
   "execution_count": null,
   "id": "9ad30924-ed24-44b7-95bf-f1bced33d2c2",
   "metadata": {
    "tags": []
   },
   "outputs": [],
   "source": [
    "fig, axes = plt.subplots(2, 2, figsize = (8, 8))\n",
    "ax1 = sns.histplot(data = penguins, x = 'bill_length_mm', bins = 20, ax = axes[0,0], kde = True)\n",
    "ax2 = sns.histplot(data = penguins, x = 'bill_depth_mm', bins = 20, ax = axes[1,0], kde = True)\n",
    "ax3 = sns.histplot(data = penguins, x = 'flipper_length_mm', bins = 20, ax = axes[0,1], kde = True)\n",
    "ax4 = sns.histplot(data = penguins, x = 'body_mass_g', bins = 20, ax = axes[1,1], kde = True)"
   ]
  },
  {
   "cell_type": "markdown",
   "id": "2ccab092-ceb5-4454-8838-562fe537d426",
   "metadata": {},
   "source": [
    "## Task 2: Examining Correlations"
   ]
  },
  {
   "cell_type": "markdown",
   "id": "cc8da640-0eb4-4d1c-a01d-dc3f39e33c67",
   "metadata": {},
   "source": [
    "1. Use sns.pairplot() to create a grid of scatter plots for all numeric variables."
   ]
  },
  {
   "cell_type": "code",
   "execution_count": null,
   "id": "06ffe582-152f-4220-a7d8-5c4ec64555b5",
   "metadata": {},
   "outputs": [],
   "source": [
    "sns.pairplot(penguins)\n",
    "plt.suptitle('Overview of Penguin Measurements')\n",
    "plt.show()"
   ]
  },
  {
   "cell_type": "markdown",
   "id": "6008b2bf-98bd-4eaf-b666-4d2a41c0cad2",
   "metadata": {},
   "source": [
    "2. Modify the pairplot to show the species information using different colors."
   ]
  },
  {
   "cell_type": "code",
   "execution_count": null,
   "id": "fe5f2d4d-e2df-4c79-a805-e2ddb5e3c962",
   "metadata": {
    "tags": []
   },
   "outputs": [],
   "source": [
    "sns.pairplot(penguins, hue = 'species')\n",
    "plt.suptitle('Overview of Penguin Measurements')\n",
    "plt.show()"
   ]
  },
  {
   "cell_type": "markdown",
   "id": "f58a522a-737e-4665-bfea-ac4ce2049c4f",
   "metadata": {},
   "source": [
    "3. Interpret the pairplot: which variables seem to be most strongly correlated? Do you notice any patterns related to species?"
   ]
  },
  {
   "cell_type": "markdown",
   "id": "aaf48799-94be-4566-8664-3d4611c22e94",
   "metadata": {},
   "source": [
    "Adelie and Chinstrap seem to be more closely related than Gentoo. "
   ]
  },
  {
   "cell_type": "markdown",
   "id": "92ded9ef-10c8-4023-8843-8bea99fba345",
   "metadata": {},
   "source": [
    "## Task 3: Investigating Relationships with Regression Plots"
   ]
  },
  {
   "cell_type": "markdown",
   "id": "273702b5-ed79-426f-97b0-4815820aa4de",
   "metadata": {},
   "source": [
    "1. Create a regression plot (sns.regplot) showing the relationship between ‘flipper_length_mm’ and ‘body_mass_g’."
   ]
  },
  {
   "cell_type": "code",
   "execution_count": null,
   "id": "9575524a-8b74-4949-b4a0-15a6444b2034",
   "metadata": {
    "tags": []
   },
   "outputs": [],
   "source": [
    "sns.regplot(data = penguins, x = 'flipper_length_mm', y = 'body_mass_g')"
   ]
  },
  {
   "cell_type": "markdown",
   "id": "bc8453b9-4f77-4a42-9c5a-57c43c647ccd",
   "metadata": {},
   "source": [
    "2. Create another regplot showing the relationship between ‘bill_length_mm’ and ‘bill_depth_mm’."
   ]
  },
  {
   "cell_type": "code",
   "execution_count": null,
   "id": "56d46182-f603-4be6-9417-a2bdc6d348f2",
   "metadata": {
    "tags": []
   },
   "outputs": [],
   "source": [
    "sns.regplot(data = penguins, x = 'bill_length_mm', y = 'bill_depth_mm')"
   ]
  },
  {
   "cell_type": "markdown",
   "id": "c37b38b7-b4de-40c1-96f9-544b44efa012",
   "metadata": {},
   "source": [
    "3. Try adding the ‘species’ information to one of these plots using different colors. Hint: You might want to use sns.lmplot for this."
   ]
  },
  {
   "cell_type": "code",
   "execution_count": null,
   "id": "dceba9b1-3870-488e-90e1-08f898535273",
   "metadata": {
    "tags": []
   },
   "outputs": [],
   "source": [
    "sns.lmplot(data = penguins, x = 'bill_length_mm', y = 'bill_depth_mm', hue = 'species')"
   ]
  },
  {
   "cell_type": "markdown",
   "id": "850c08a5-1145-4c7b-9291-ddca7b021d3a",
   "metadata": {},
   "source": [
    "## Task 4: Joint Distribution Plots"
   ]
  },
  {
   "cell_type": "markdown",
   "id": "f06438e8-2d54-43ff-b8dd-0bd71f3fcde8",
   "metadata": {},
   "source": [
    "1. Create a joint plot for ‘flipper_length_mm’ and ‘body_mass_g’."
   ]
  },
  {
   "cell_type": "code",
   "execution_count": null,
   "id": "fa02b093-24c9-4baa-8b67-5c7297b69442",
   "metadata": {
    "tags": []
   },
   "outputs": [],
   "source": [
    "sns.jointplot(data = penguins, x = 'flipper_length_mm', y = 'body_mass_g')"
   ]
  },
  {
   "cell_type": "markdown",
   "id": "d0f6aafe-ef04-4364-937e-6e3710337b3b",
   "metadata": {},
   "source": [
    "2. Experiment with different kind parameters in the joint plot (e.g., ‘scatter’, ‘kde’, ‘hex’)."
   ]
  },
  {
   "cell_type": "code",
   "execution_count": null,
   "id": "ac2c6dfb-9628-446b-9f0d-e2c9e5eb88d1",
   "metadata": {
    "tags": []
   },
   "outputs": [],
   "source": [
    "sns.jointplot(data = penguins, x = 'flipper_length_mm', y = 'body_mass_g', kind='kde')"
   ]
  },
  {
   "cell_type": "markdown",
   "id": "6490c003-c43e-41cb-a6c1-0bd5330ab48b",
   "metadata": {},
   "source": [
    "3. Create another joint plot, this time for ‘bill_length_mm’ and ‘bill_depth_mm’, colored by species."
   ]
  },
  {
   "cell_type": "code",
   "execution_count": null,
   "id": "5c0d292f-d673-4b51-ac6f-0095283754e1",
   "metadata": {
    "tags": []
   },
   "outputs": [],
   "source": [
    "sns.jointplot(data = penguins, x = 'bill_length_mm', y = 'bill_depth_mm', kind='hex')"
   ]
  },
  {
   "cell_type": "markdown",
   "id": "df365137-abf0-4f8e-8d4e-aadb1660e30f",
   "metadata": {},
   "source": [
    "## BONUS CHALLENGE"
   ]
  },
  {
   "cell_type": "code",
   "execution_count": null,
   "id": "eb0e2d4c-a361-4f72-85db-6828453036ab",
   "metadata": {
    "tags": []
   },
   "outputs": [],
   "source": [
    "corr_matrix = penguins.select_dtypes(include=np.number).corr()"
   ]
  },
  {
   "cell_type": "code",
   "execution_count": null,
   "id": "25a695ca-08c2-4485-b6ce-5fa890692146",
   "metadata": {
    "tags": []
   },
   "outputs": [],
   "source": [
    "sns.heatmap(data = corr_matrix)"
   ]
  },
  {
   "cell_type": "code",
   "execution_count": null,
   "id": "bb9fe048-0adb-4889-8850-3d1590781c90",
   "metadata": {},
   "outputs": [],
   "source": []
  }
 ],
 "metadata": {
  "kernelspec": {
   "display_name": "Python 3.10.0",
   "language": "python",
   "name": "python3.10.0"
  },
  "language_info": {
   "codemirror_mode": {
    "name": "ipython",
    "version": 3
   },
   "file_extension": ".py",
   "mimetype": "text/x-python",
   "name": "python",
   "nbconvert_exporter": "python",
   "pygments_lexer": "ipython3",
   "version": "3.10.0"
  }
 },
 "nbformat": 4,
 "nbformat_minor": 5
}
