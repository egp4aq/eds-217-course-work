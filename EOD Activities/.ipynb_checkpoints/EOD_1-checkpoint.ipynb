{
 "cells": [
  {
   "cell_type": "markdown",
   "id": "7c9f615f-ee78-4da2-b6cf-341c3cf0fa3d",
   "metadata": {},
   "source": [
    "# Example Python Data Science Workflow\n",
    "\n",
    "Steps:\n",
    "\n",
    "0. get ready\n",
    "1. import\n",
    "2. clean\n",
    "3. filter\n",
    "4. sort\n",
    "5. transform\n",
    "6. group\n",
    "7. aggregate\n",
    "8. plot"
   ]
  },
  {
   "cell_type": "markdown",
   "id": "3a38eba7-5669-42d0-b6a3-58ba5ce74662",
   "metadata": {
    "tags": []
   },
   "source": [
    "## 0. Get Ready"
   ]
  },
  {
   "cell_type": "code",
   "execution_count": null,
   "id": "f3151f43-ada9-4e5c-a054-ee51d050a156",
   "metadata": {
    "tags": []
   },
   "outputs": [],
   "source": [
    "import pandas as pd\n",
    "import matplotlib.pyplot as plt"
   ]
  },
  {
   "cell_type": "markdown",
   "id": "86bff5bb-9305-49c6-9391-5564ad435da8",
   "metadata": {},
   "source": [
    "## 1. Import"
   ]
  },
  {
   "cell_type": "code",
   "execution_count": null,
   "id": "8bb4b27f-8846-43c5-b704-bed7a278ca2c",
   "metadata": {
    "tags": []
   },
   "outputs": [],
   "source": [
    "# Make a url variable:\n",
    "\n",
    "url = 'https://raw.githubusercontent.com/environmental-data-science/eds217-day0-comp/main/data/raw_data/toolik_weather.csv'"
   ]
  },
  {
   "cell_type": "code",
   "execution_count": null,
   "id": "3cad47f4-4bf0-43ee-89e9-61fad6badacd",
   "metadata": {
    "tags": []
   },
   "outputs": [],
   "source": [
    "# Import the url to a dataframe using pd.read_csv:\n",
    "\n",
    "df = pd.read_csv(url)\n",
    "df.head()"
   ]
  },
  {
   "cell_type": "code",
   "execution_count": null,
   "id": "c1d96653-b170-43e7-8112-74398b738c61",
   "metadata": {
    "tags": []
   },
   "outputs": [],
   "source": [
    "# Count the number of missing (null) values in each column\n",
    "df.isnull().sum()"
   ]
  },
  {
   "cell_type": "code",
   "execution_count": null,
   "id": "e337973e-b7ad-4bc4-ba2f-a5af78ac34a1",
   "metadata": {
    "tags": []
   },
   "outputs": [],
   "source": [
    "df.describe()"
   ]
  },
  {
   "cell_type": "markdown",
   "id": "a3c28fbc-f166-4379-a05a-f387b7106906",
   "metadata": {},
   "source": [
    "### Steps 2-5 (Intentionally left blank)\n",
    "\n",
    "### Step 6: Group by Month"
   ]
  },
  {
   "cell_type": "code",
   "execution_count": null,
   "id": "5e59eba9-18cd-48bf-bef2-a88b0aece859",
   "metadata": {
    "tags": []
   },
   "outputs": [],
   "source": [
    "monthly = df.groupby('Month')\n",
    "print(type(monthly))"
   ]
  },
  {
   "cell_type": "markdown",
   "id": "a743354d-49e4-4993-a1b7-debf75b9f5f7",
   "metadata": {},
   "source": [
    "### Step 7: Aggregate (get monthly averages)"
   ]
  },
  {
   "cell_type": "code",
   "execution_count": null,
   "id": "27239c66-f9d8-4c68-8698-f25e9502e0ac",
   "metadata": {
    "tags": []
   },
   "outputs": [],
   "source": [
    "monthly_means = monthly['Daily_AirTemp_Mean_C'].mean()\n",
    "print(monthly_means)"
   ]
  },
  {
   "cell_type": "markdown",
   "id": "d74ecea1-6460-4ece-ac13-ab63b9afc879",
   "metadata": {},
   "source": [
    "### Step 8: Make a plot!"
   ]
  },
  {
   "cell_type": "code",
   "execution_count": null,
   "id": "1c2d1253-a73c-480f-affa-273f7355a61f",
   "metadata": {
    "tags": []
   },
   "outputs": [],
   "source": [
    "month_names = ['Jan','Feb','Mar','Apr','May','June','July','Aug','Sept','Oct','Nov','Dec']\n",
    "plt.bar(month_names, monthly_means)"
   ]
  },
  {
   "cell_type": "code",
   "execution_count": null,
   "id": "1490b2d1-c63f-48b3-9cb3-33fefa230de5",
   "metadata": {},
   "outputs": [],
   "source": []
  }
 ],
 "metadata": {
  "kernelspec": {
   "display_name": "Python 3.10.0",
   "language": "python",
   "name": "python3.10.0"
  },
  "language_info": {
   "codemirror_mode": {
    "name": "ipython",
    "version": 3
   },
   "file_extension": ".py",
   "mimetype": "text/x-python",
   "name": "python",
   "nbconvert_exporter": "python",
   "pygments_lexer": "ipython3",
   "version": "3.10.0"
  }
 },
 "nbformat": 4,
 "nbformat_minor": 5
}
