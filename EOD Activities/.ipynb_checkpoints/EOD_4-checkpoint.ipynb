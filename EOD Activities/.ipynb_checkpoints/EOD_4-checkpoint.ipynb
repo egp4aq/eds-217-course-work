{
 "cells": [
  {
   "cell_type": "code",
   "execution_count": null,
   "id": "ab324bcc-7941-47ed-9657-ad0dcffb551d",
   "metadata": {
    "tags": []
   },
   "outputs": [],
   "source": [
    "import pandas as pd\n",
    "import numpy as np\n",
    "import matplotlib.pyplot as plt"
   ]
  },
  {
   "cell_type": "code",
   "execution_count": null,
   "id": "8ddfecd9-b39c-4971-8b64-24295de63490",
   "metadata": {
    "tags": []
   },
   "outputs": [],
   "source": [
    "url = 'https://ucsb.box.com/shared/static/dnnu59jsnkymup6o8aaovdywrtxiy3a9.csv'\n",
    "df = pd.read_csv(url)"
   ]
  },
  {
   "cell_type": "code",
   "execution_count": null,
   "id": "037b85bb-72bb-438b-9863-1610aaab9823",
   "metadata": {
    "tags": []
   },
   "outputs": [],
   "source": [
    "# Task 1.3\n",
    "df.head(5)"
   ]
  },
  {
   "cell_type": "code",
   "execution_count": null,
   "id": "4fe56cb1-7559-4e80-bd46-09f93dcbb25e",
   "metadata": {},
   "outputs": [],
   "source": [
    "# Task 2.1\n",
    "df.describe()"
   ]
  },
  {
   "cell_type": "code",
   "execution_count": null,
   "id": "ce21be2d-f1da-4eac-91cb-663ab86f5477",
   "metadata": {
    "tags": []
   },
   "outputs": [],
   "source": [
    "# Task 2.2\n",
    "df.info()"
   ]
  },
  {
   "cell_type": "code",
   "execution_count": null,
   "id": "07f02dd2-9e22-45f8-b1ac-bd2e85334251",
   "metadata": {
    "tags": []
   },
   "outputs": [],
   "source": [
    "df['Oceans'].isnull().sum()"
   ]
  },
  {
   "cell_type": "code",
   "execution_count": null,
   "id": "8e550c84-0461-455c-9caf-e582960b20b1",
   "metadata": {
    "tags": []
   },
   "outputs": [],
   "source": [
    "df = df.dropna(subset=['Oceans'])"
   ]
  },
  {
   "cell_type": "code",
   "execution_count": null,
   "id": "375bb899-1dde-4af3-a688-9b03dc64909a",
   "metadata": {
    "tags": []
   },
   "outputs": [],
   "source": [
    "df['Oceans'].isnull().sum()"
   ]
  },
  {
   "cell_type": "code",
   "execution_count": null,
   "id": "80da5f7d-8c86-4300-b34d-fb3838c77005",
   "metadata": {
    "tags": []
   },
   "outputs": [],
   "source": [
    "# Task 3.1\n",
    "oceans = df.groupby('Oceans')\n",
    "oceans.head(5)"
   ]
  },
  {
   "cell_type": "code",
   "execution_count": null,
   "id": "c049f484-5854-4b46-afb7-732097817deb",
   "metadata": {
    "tags": []
   },
   "outputs": [],
   "source": [
    "# Task 3.2\n",
    "oc_meas = oceans['Measurement'].count()\n",
    "print(oc_meas)"
   ]
  },
  {
   "cell_type": "code",
   "execution_count": null,
   "id": "6ba14a24-346f-495b-aa91-7ea34b5a9fd2",
   "metadata": {
    "tags": []
   },
   "outputs": [],
   "source": [
    "# Task 3.3\n",
    "oc_meas_mean = oceans['Measurement'].mean()\n",
    "print(oc_meas_mean)"
   ]
  },
  {
   "cell_type": "code",
   "execution_count": null,
   "id": "799d5b53-f4f9-4cff-a2c9-8a98e318a9d3",
   "metadata": {
    "tags": []
   },
   "outputs": [],
   "source": [
    "# Task 4.1\n",
    "df2 = df[df['Unit'] == \"pieces/m3\"]\n",
    "df2.head()"
   ]
  },
  {
   "cell_type": "code",
   "execution_count": null,
   "id": "419a6a3a-665c-4ce6-9830-95e96d3484b5",
   "metadata": {
    "tags": []
   },
   "outputs": [],
   "source": [
    "# Task 4.2\n",
    "gb_oc_df = df2.groupby('Oceans')\n",
    "max_val = gb_oc_df['Measurement'].max()\n",
    "print(max_val)"
   ]
  },
  {
   "cell_type": "code",
   "execution_count": null,
   "id": "b5da8910-8d4b-4e20-8454-400fcfa346aa",
   "metadata": {
    "tags": []
   },
   "outputs": [],
   "source": [
    "# Task 5.1\n",
    "\n",
    "df['Latitude'].plot.hist()"
   ]
  },
  {
   "cell_type": "code",
   "execution_count": null,
   "id": "7f66bb5e-50f6-4024-ad77-ec7569f81455",
   "metadata": {
    "tags": []
   },
   "outputs": [],
   "source": [
    "# Task 5.2\n",
    "df3 = df2[df2['Measurement']>0].copy()\n",
    "df3.head()"
   ]
  },
  {
   "cell_type": "code",
   "execution_count": null,
   "id": "12f578e5-5f1d-43f2-9c1d-1dbbe67b7d84",
   "metadata": {
    "tags": []
   },
   "outputs": [],
   "source": [
    "# Task 5.3 \n",
    "df3[\"log10 Measurements\"] = np.log10(df3['Measurement'])"
   ]
  },
  {
   "cell_type": "code",
   "execution_count": null,
   "id": "f796cc5f-61a6-4e22-bc67-ad20070f35dd",
   "metadata": {
    "tags": []
   },
   "outputs": [],
   "source": [
    "df3['log10 Measurements'].plot.hist(bins=50)"
   ]
  }
 ],
 "metadata": {
  "kernelspec": {
   "display_name": "Python 3.10.0",
   "language": "python",
   "name": "python3.10.0"
  },
  "language_info": {
   "codemirror_mode": {
    "name": "ipython",
    "version": 3
   },
   "file_extension": ".py",
   "mimetype": "text/x-python",
   "name": "python",
   "nbconvert_exporter": "python",
   "pygments_lexer": "ipython3",
   "version": "3.10.0"
  }
 },
 "nbformat": 4,
 "nbformat_minor": 5
}
