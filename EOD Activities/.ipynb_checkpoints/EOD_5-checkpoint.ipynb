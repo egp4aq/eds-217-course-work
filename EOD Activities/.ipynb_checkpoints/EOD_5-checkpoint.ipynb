{
 "cells": [
  {
   "cell_type": "code",
   "execution_count": null,
   "id": "4437092e-1b55-44f1-8c8d-40603a3ef22d",
   "metadata": {
    "tags": []
   },
   "outputs": [],
   "source": [
    "import pandas as pd\n",
    "import matplotlib.pyplot as plt\n",
    "import seaborn as sns\n",
    "\n",
    "# Load the data\n",
    "url = \"https://github.com/TheEconomist/banana-index-data/releases/download/1.0/bananaindex.csv\"\n",
    "df = pd.read_csv(url)"
   ]
  },
  {
   "cell_type": "code",
   "execution_count": null,
   "id": "e1cc759c-a65c-4bf2-a61d-a022c4f774c7",
   "metadata": {
    "tags": []
   },
   "outputs": [],
   "source": [
    "# Display the first few rows:\n",
    "print(df.head())"
   ]
  },
  {
   "cell_type": "code",
   "execution_count": null,
   "id": "ed2a6515-0b4d-46dd-a564-481093bdeb75",
   "metadata": {
    "tags": []
   },
   "outputs": [],
   "source": [
    "# Display the dataframe info:\n",
    "print(df.info())"
   ]
  },
  {
   "cell_type": "markdown",
   "id": "5d8c9bdd-c08e-40e8-864f-438a326b5f07",
   "metadata": {},
   "source": [
    "## Data Preparation\n",
    "\n",
    "a. Set the index of the DataFrame to be the ‘entity’ column."
   ]
  },
  {
   "cell_type": "code",
   "execution_count": null,
   "id": "85788568-a400-4ac6-8118-3fc20c9493f9",
   "metadata": {
    "tags": []
   },
   "outputs": [],
   "source": [
    "df = df.set_index('entity')\n",
    "df.head()"
   ]
  },
  {
   "cell_type": "markdown",
   "id": "4650d47a-621a-4dd6-9985-e460adce2c11",
   "metadata": {},
   "source": [
    "b. Remove the ‘year’, ‘Banana values’, ‘type’, ‘Unnamed: 16’, and ‘Chart?’ columns."
   ]
  },
  {
   "cell_type": "code",
   "execution_count": null,
   "id": "604a16cc-62cb-4d06-9f2a-e9b6a2245f7d",
   "metadata": {
    "tags": []
   },
   "outputs": [],
   "source": [
    "df = df.drop(['year','Banana values','type','Unnamed: 16','Chart?'],axis=1)"
   ]
  },
  {
   "cell_type": "markdown",
   "id": "77443c15-8385-4aff-a072-de48235fdd60",
   "metadata": {},
   "source": [
    "c. Display the first few rows of the modified DataFrame."
   ]
  },
  {
   "cell_type": "code",
   "execution_count": null,
   "id": "2345dd23-8abc-463a-aa81-17a1ffe2f3e2",
   "metadata": {
    "tags": []
   },
   "outputs": [],
   "source": [
    "df.head()"
   ]
  },
  {
   "cell_type": "markdown",
   "id": "4178fa62-363c-43b9-8427-d81651d513ed",
   "metadata": {},
   "source": [
    "## Exploring Banana Scores\n",
    "\n",
    "a. For each of the pre-computed banana score columns (kg, calories, and protein), show the 10 highest-scoring food products."
   ]
  },
  {
   "cell_type": "code",
   "execution_count": null,
   "id": "57d41807-e6d4-4a5b-b65d-09b3e23ddfaa",
   "metadata": {
    "tags": []
   },
   "outputs": [],
   "source": [
    "#top_10_kg = df.nlargest(10,'Bananas index (kg)')\n",
    "#print(top_10_kg)\n",
    "\n",
    "#top_10_cal = df.nlargest(10, 'Bananas index (1000 kcalories)')\n",
    "#print(top_10_cal)\n",
    "\n",
    "#top_10_pro = df.nlargest(10, 'Bananas index (100g protein)')\n",
    "#print(top_10_pro)"
   ]
  },
  {
   "cell_type": "markdown",
   "id": "b7a75581-e267-4d96-ba38-32d908903c7c",
   "metadata": {},
   "source": [
    "b. Edit the function below so that is returns the top 10 scores for a given column:"
   ]
  },
  {
   "cell_type": "code",
   "execution_count": null,
   "id": "c08605d6-7208-4b7f-8bf9-768bd0d48d88",
   "metadata": {
    "tags": []
   },
   "outputs": [],
   "source": [
    "def return_top_ten(df, column):\n",
    "    top_10 = df.nlargest(10,column)\n",
    "    return(top_10[column])"
   ]
  },
  {
   "cell_type": "code",
   "execution_count": null,
   "id": "564ed77c-7a5c-4177-920a-f90b19fbb789",
   "metadata": {
    "tags": []
   },
   "outputs": [],
   "source": [
    "return_top_ten(df, 'Bananas index (kg)')"
   ]
  },
  {
   "cell_type": "markdown",
   "id": "57d6e97d-e34c-4717-9a93-22386934f2bb",
   "metadata": {},
   "source": [
    "c. Use your function to display the results for each of the three Banana index columns."
   ]
  },
  {
   "cell_type": "code",
   "execution_count": null,
   "id": "6090832e-cd81-4d13-8a5f-3f5999d4e0af",
   "metadata": {
    "tags": []
   },
   "outputs": [],
   "source": [
    "def return_top_ten(df, column):\n",
    "    top_10 = df.nlargest(10,column)\n",
    "    return(top_10[column])"
   ]
  },
  {
   "cell_type": "markdown",
   "id": "933218fa-8716-44ab-95d9-89a60826f7f9",
   "metadata": {},
   "source": [
    "## Common High-Scoring Foods\n",
    "\n",
    "Identify which foods, if any, appear in the top 10 for all three banana score lists (kg, calories, and protein)."
   ]
  },
  {
   "cell_type": "code",
   "execution_count": null,
   "id": "86cb6459-9bff-4caf-a14b-046217d21b3a",
   "metadata": {
    "tags": []
   },
   "outputs": [],
   "source": [
    "kg_set = set(return_top_ten(df, 'Bananas index (kg)').index)\n",
    "cal_set = set(return_top_ten(df,'Bananas index (1000 kcalories)').index)\n",
    "pro_set = set(return_top_ten(df, 'Bananas index (100g protein)').index)\n",
    "\n",
    "in_all_three = set.intersection(kg_set, cal_set, pro_set)\n",
    "print(in_all_three)"
   ]
  },
  {
   "cell_type": "markdown",
   "id": "e6238000-101e-496c-8c5d-97212387458d",
   "metadata": {},
   "source": [
    "## Land Use Analysis\n",
    "\n",
    "a. Create a new column named ‘Bananas index (land use 1000 kcal)’, calculating that food item’s use of land for every 1,000 kcal in comparison to a banana."
   ]
  },
  {
   "cell_type": "code",
   "execution_count": null,
   "id": "40f96f5c-e16d-48be-9f4a-4bfa472a5a57",
   "metadata": {
    "tags": []
   },
   "outputs": [],
   "source": [
    "bananas_only = df.loc['Bananas','land_use_1000kcal']\n",
    "print(bananas_only)\n",
    "\n",
    "df['Bananas index (land use 1000 kcal)'] = df['land_use_1000kcal'] / bananas_only\n",
    "df.head()"
   ]
  },
  {
   "cell_type": "markdown",
   "id": "e18c9343-6448-405b-bd4e-484e0fe51d97",
   "metadata": {},
   "source": [
    "b. Display the 10 foods with the highest land use score."
   ]
  },
  {
   "cell_type": "code",
   "execution_count": null,
   "id": "c300c801-b258-40fd-8553-9786c13539fd",
   "metadata": {
    "tags": []
   },
   "outputs": [],
   "source": [
    "df.nlargest(10, 'Bananas index (land use 1000 kcal)')"
   ]
  },
  {
   "cell_type": "markdown",
   "id": "bbd553b2-4b37-48ed-801d-1fb319dbccb7",
   "metadata": {},
   "source": [
    "c. Compare this list with the previous top 10 lists. Are there any common foods?"
   ]
  },
  {
   "cell_type": "code",
   "execution_count": null,
   "id": "f28a865a-679d-4ffc-b255-ab976ba9fd5d",
   "metadata": {
    "tags": []
   },
   "outputs": [],
   "source": [
    "set_1000_use = set(return_top_ten(df, 'Bananas index (land use 1000 kcal)').index)\n",
    "\n",
    "new_intersect = set.intersection(kg_set, set_1000_use)\n",
    "print(new_intersect)"
   ]
  },
  {
   "cell_type": "markdown",
   "id": "36e223e2-91ba-4230-bb29-8e3b8a49c4f8",
   "metadata": {},
   "source": [
    "## Cheese Analysis\n",
    "\n",
    "Identify the type of cheese with the highest banana score per 1,000 kcal. How does it compare to other cheeses in the dataset?"
   ]
  },
  {
   "cell_type": "code",
   "execution_count": null,
   "id": "3e780f6e-6909-4da2-bdce-5e047bea5836",
   "metadata": {
    "tags": []
   },
   "outputs": [],
   "source": [
    "# max_banana = df[ (df['Bananas index (land use 1000 kcal)' = df['Bananas index (land use 1000 kcal)'].max() ]\n",
    "\n",
    "rows_with_cheese = df.filter(like='heese',axis=0)\n",
    "                  \n",
    "# print(rows_with_cheese)\n",
    "\n",
    "max_cheese = rows_with_cheese['Bananas index (land use 1000 kcal)'].max()\n",
    "print(max_cheese)"
   ]
  }
 ],
 "metadata": {
  "kernelspec": {
   "display_name": "Python 3.10.0",
   "language": "python",
   "name": "python3.10.0"
  },
  "language_info": {
   "codemirror_mode": {
    "name": "ipython",
    "version": 3
   },
   "file_extension": ".py",
   "mimetype": "text/x-python",
   "name": "python",
   "nbconvert_exporter": "python",
   "pygments_lexer": "ipython3",
   "version": "3.10.0"
  }
 },
 "nbformat": 4,
 "nbformat_minor": 5
}
