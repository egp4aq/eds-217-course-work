{
 "cells": [
  {
   "cell_type": "code",
   "execution_count": null,
   "id": "3b21ef40-fc30-4efd-81e8-81e9debc2894",
   "metadata": {
    "tags": []
   },
   "outputs": [],
   "source": [
    "import pandas as pd\n",
    "import numpy as np\n",
    "import matplotlib.pyplot as plt\n",
    "import seaborn as sns\n",
    "\n",
    "# Load the dataset\n",
    "url = \"https://github.com/Spijkervet/eurovision-dataset/releases/download/2020.0/contestants.csv\"\n",
    "eurovision_df = pd.read_csv(url)"
   ]
  },
  {
   "cell_type": "markdown",
   "id": "043739b3-349f-4e5b-82db-113b6718981e",
   "metadata": {},
   "source": [
    "## Task 1: Data Exploration and Cleaning"
   ]
  },
  {
   "cell_type": "code",
   "execution_count": null,
   "id": "80925f55-cf1d-4423-b466-b237ecd86a2a",
   "metadata": {
    "tags": []
   },
   "outputs": [],
   "source": [
    "eurovision_df.head()"
   ]
  },
  {
   "cell_type": "code",
   "execution_count": null,
   "id": "c68ae0a9-b70d-4719-90c4-d0c3533fb44a",
   "metadata": {
    "tags": []
   },
   "outputs": [],
   "source": [
    "eurovision_df.info()"
   ]
  },
  {
   "cell_type": "code",
   "execution_count": null,
   "id": "9a0635c4-66d5-4518-a1eb-8c9811946b79",
   "metadata": {
    "tags": []
   },
   "outputs": [],
   "source": [
    "eurovision_df['year'] = pd.to_datetime(eurovision_df['year'])\n",
    "eurovision_df.info()"
   ]
  },
  {
   "cell_type": "markdown",
   "id": "b4a8cde6-5eaf-4deb-b3c7-52ad163948df",
   "metadata": {},
   "source": [
    "## Task 2: Filtering and Transformation"
   ]
  },
  {
   "cell_type": "code",
   "execution_count": null,
   "id": "bf86d389-acf0-4be9-96fc-b5a2c2e59d94",
   "metadata": {
    "tags": []
   },
   "outputs": [],
   "source": [
    "df_1990 = eurovision_df.copy().set_index('year')"
   ]
  },
  {
   "cell_type": "code",
   "execution_count": null,
   "id": "9df8f07b-8a4e-4a45-8e1d-4393d5e5ce03",
   "metadata": {
    "tags": []
   },
   "outputs": [],
   "source": [
    "df_1990.head()"
   ]
  },
  {
   "cell_type": "code",
   "execution_count": null,
   "id": "b99e737b-9a15-42d5-8ebd-c38488fd0de8",
   "metadata": {
    "tags": []
   },
   "outputs": [],
   "source": [
    "new_1990 = df_1990[(df_1990.index.year) >= 1990]\n",
    "new_1990.head()"
   ]
  },
  {
   "cell_type": "markdown",
   "id": "bc4ec44b-8ed4-45d3-b17c-ce66092b5293",
   "metadata": {},
   "source": [
    "## Task 3: Sorting and Aggregation"
   ]
  },
  {
   "cell_type": "code",
   "execution_count": null,
   "id": "dd65b8ed-cbd8-4c00-a64b-05f5ac493e80",
   "metadata": {},
   "outputs": [],
   "source": []
  },
  {
   "cell_type": "markdown",
   "id": "b5495870-3e53-4738-b320-e215116c070d",
   "metadata": {},
   "source": [
    "## Task 4: Grouping and Analysis"
   ]
  },
  {
   "cell_type": "code",
   "execution_count": null,
   "id": "508dcc89-0805-490f-b9c9-5a64c7356e08",
   "metadata": {},
   "outputs": [],
   "source": []
  },
  {
   "cell_type": "markdown",
   "id": "9d4b2c89-f718-4888-8213-dc95882d2b9e",
   "metadata": {},
   "source": [
    "## Task 5: Joining Data"
   ]
  },
  {
   "cell_type": "code",
   "execution_count": null,
   "id": "9fb6532b-0584-4396-837a-56302e724213",
   "metadata": {},
   "outputs": [],
   "source": []
  }
 ],
 "metadata": {
  "kernelspec": {
   "display_name": "Python 3.10.0",
   "language": "python",
   "name": "python3.10.0"
  },
  "language_info": {
   "codemirror_mode": {
    "name": "ipython",
    "version": 3
   },
   "file_extension": ".py",
   "mimetype": "text/x-python",
   "name": "python",
   "nbconvert_exporter": "python",
   "pygments_lexer": "ipython3",
   "version": "3.10.0"
  }
 },
 "nbformat": 4,
 "nbformat_minor": 5
}
