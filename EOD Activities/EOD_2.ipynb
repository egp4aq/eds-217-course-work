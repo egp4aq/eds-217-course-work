{
 "cells": [
  {
   "cell_type": "code",
   "execution_count": null,
   "id": "a0b9876d-e40c-420d-ae87-6769797e3ef8",
   "metadata": {
    "tags": []
   },
   "outputs": [],
   "source": [
    "import random"
   ]
  },
  {
   "cell_type": "code",
   "execution_count": null,
   "id": "b9951515-8d15-4533-b35b-06470d17a608",
   "metadata": {
    "tags": []
   },
   "outputs": [],
   "source": [
    "classmates = ['Kimmy','Tom','Emma Bea', 'Amanda']"
   ]
  },
  {
   "cell_type": "code",
   "execution_count": null,
   "id": "4d6fe50d-3acd-484c-b51a-c5bbff5ac8c2",
   "metadata": {
    "tags": []
   },
   "outputs": [],
   "source": [
    "favorite_color = ['Purple','Blue','Green','Red']\n",
    "number_of_pets = [1, 2, 3, 4]\n",
    "preferred_study_snack = ['chips','apple','jello','cheezits']"
   ]
  },
  {
   "cell_type": "code",
   "execution_count": null,
   "id": "fb90f6b6-7b30-4fd4-9ad9-42d8c0331ff2",
   "metadata": {
    "tags": []
   },
   "outputs": [],
   "source": [
    "class_dict = {\n",
    "    \"Kimmy\": {\"favorite_color\": \"Purple\", \"number_of_pets\":1, \"preferred_study_snack\":\"chips\"},\n",
    "    \"Tom\": {\"favorite_color\": \"Blue\", \"number_of_pets\":2, \"preferred_study_snack\":\"apple\"},\n",
    "    \"Emma Bea\": {\"favorite_color\": \"Green\", \"number_of_pets\":3, \"preferred_study_snack\":\"jello\"},\n",
    "    \"Amanda\": {\"favorite_color\": \"Red\", \"number_of_pets\":4, \"preferred_study_snack\":\"cheezits\"}\n",
    "}"
   ]
  },
  {
   "cell_type": "code",
   "execution_count": null,
   "id": "6b537cf4-cdf0-4099-b14e-2e20882e5c0e",
   "metadata": {
    "tags": []
   },
   "outputs": [],
   "source": [
    "classmates.insert(4,'Brooke')\n",
    "print(classmates)"
   ]
  },
  {
   "cell_type": "code",
   "execution_count": null,
   "id": "c347a494-663b-4096-abb2-74af6a7bc007",
   "metadata": {
    "tags": []
   },
   "outputs": [],
   "source": [
    "classmates.remove('Tom')\n",
    "print(classmates)"
   ]
  },
  {
   "cell_type": "code",
   "execution_count": null,
   "id": "16612d93-abc3-4e9b-8945-df4415f462b2",
   "metadata": {
    "tags": []
   },
   "outputs": [],
   "source": [
    "classmates.sort()\n",
    "print(classmates)"
   ]
  },
  {
   "cell_type": "code",
   "execution_count": null,
   "id": "0e112bbf-3a63-4d07-8590-98e3ac2a76ec",
   "metadata": {
    "tags": []
   },
   "outputs": [],
   "source": [
    "print(classmates[-1])"
   ]
  },
  {
   "cell_type": "code",
   "execution_count": null,
   "id": "b20ec29f-d855-48a2-b9ba-5c3c9d23f0f4",
   "metadata": {
    "tags": []
   },
   "outputs": [],
   "source": [
    "class_dict[\"Kimmy\"][\"fav_study_spot\"] = \"towers\"\n",
    "class_dict[\"Tom\"][\"fav_study_spot\"] = \"home\"\n",
    "class_dict[\"Emma Bea\"][\"fav_study_spot\"] = \"church\"\n",
    "class_dict[\"Amanda\"][\"fav_study_spot\"] = \"library\""
   ]
  },
  {
   "cell_type": "code",
   "execution_count": null,
   "id": "5ba97807-a9df-4e6e-b804-eddad3dba346",
   "metadata": {
    "tags": []
   },
   "outputs": [],
   "source": [
    "print(class_dict)"
   ]
  },
  {
   "cell_type": "code",
   "execution_count": null,
   "id": "c417237d-3e28-42b7-8529-7d6592ffdbe2",
   "metadata": {
    "tags": []
   },
   "outputs": [],
   "source": [
    "class_dict[\"Amanda\"][\"number_of_pets\"] = 1000"
   ]
  },
  {
   "cell_type": "code",
   "execution_count": null,
   "id": "30a86e6a-db95-485e-8722-ddb7f7d1fa2f",
   "metadata": {
    "tags": []
   },
   "outputs": [],
   "source": [
    "print(class_dict)"
   ]
  },
  {
   "cell_type": "code",
   "execution_count": null,
   "id": "0f6195eb-d814-4a9f-9a86-bbcdec2f501b",
   "metadata": {
    "tags": []
   },
   "outputs": [],
   "source": [
    "print(list[class_dict[\"Kimmy\"][\"favorite_color\"],class_dict[\"Tom\"][\"favorite_color\"],class_dict[\"Emma Bea\"][\"favorite_color\"],class_dict[\"Amanda\"][\"favorite_color\"]])"
   ]
  },
  {
   "cell_type": "code",
   "execution_count": null,
   "id": "d587fc41-8a46-40e3-9abc-46651c9332a7",
   "metadata": {
    "tags": []
   },
   "outputs": [],
   "source": [
    "for key, value in class_dict.items():\n",
    "    print(value['favorite_color'])"
   ]
  },
  {
   "cell_type": "code",
   "execution_count": null,
   "id": "b9e30582-62c4-4389-9020-aaf3cdc57ed7",
   "metadata": {
    "tags": []
   },
   "outputs": [],
   "source": [
    "import random\n",
    "\n",
    "# Sample dictionary\n",
    "fruit_colors = {\n",
    "    \"apple\": \"red\",\n",
    "    \"banana\": \"yellow\",\n",
    "    \"grape\": \"purple\",\n",
    "    \"kiwi\": \"brown\",\n",
    "    \"orange\": \"orange\"\n",
    "}\n",
    "\n",
    "# Select a single random key-value pair\n",
    "random_fruit, random_color = random.choice(list(fruit_colors.items()))\n",
    "print(f\"Randomly selected fruit: {random_fruit}\")\n",
    "print(f\"Its color: {random_color}\")\n",
    "\n",
    "# To get just a random key:\n",
    "random_fruit = random.choice(list(fruit_colors.keys()))\n",
    "print(f\"Another randomly selected fruit: {random_fruit}\")\n",
    "\n",
    "# To select multiple random items:\n",
    "num_selections = 3\n",
    "random_fruits = random.sample(list(fruit_colors.keys()), num_selections)\n",
    "print(f\"Randomly selected {num_selections} fruits: {random_fruits}\")"
   ]
  },
  {
   "cell_type": "code",
   "execution_count": null,
   "id": "2e263d74-18c5-4d6d-9f6a-9d51329aec44",
   "metadata": {
    "tags": []
   },
   "outputs": [],
   "source": [
    "classmates = ['Kimmy','Tom','Emma Bea', 'Amanda']\n",
    "preferred_study_snack = ['chips','apple','jello','cheezits']\n",
    "classmate_info = {classmates:preferred_study_snack}"
   ]
  },
  {
   "cell_type": "code",
   "execution_count": null,
   "id": "45fdf8df-3094-4e5d-8c29-797072991385",
   "metadata": {
    "tags": []
   },
   "outputs": [],
   "source": [
    "#| echo: true\n",
    "def assign_random_snacks(classmate_info):\n",
    "    # Your code here\n",
    "    print(f\"{sharer} will share {snack} with {receiver}\")\n",
    "\n",
    "# Test your function\n",
    "assign_random_snacks(classmate_info)"
   ]
  }
 ],
 "metadata": {
  "kernelspec": {
   "display_name": "Python 3.10.0",
   "language": "python",
   "name": "python3.10.0"
  },
  "language_info": {
   "codemirror_mode": {
    "name": "ipython",
    "version": 3
   },
   "file_extension": ".py",
   "mimetype": "text/x-python",
   "name": "python",
   "nbconvert_exporter": "python",
   "pygments_lexer": "ipython3",
   "version": "3.10.0"
  }
 },
 "nbformat": 4,
 "nbformat_minor": 5
}
