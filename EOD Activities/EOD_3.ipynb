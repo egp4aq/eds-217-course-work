{
 "cells": [
  {
   "cell_type": "markdown",
   "id": "0e47b121-8fe8-4320-b524-c754029b72af",
   "metadata": {},
   "source": [
    "## EOD Day 3\n",
    "\n",
    "[link to assignment](https://eds-217-essential-python.github.io/course-materials/eod-practice/eod-day3.html)"
   ]
  },
  {
   "cell_type": "code",
   "execution_count": null,
   "id": "eddbd2e9-aa0f-4c98-913c-d89ec170f2bb",
   "metadata": {
    "tags": []
   },
   "outputs": [],
   "source": [
    "import pandas as pd\n",
    "import numpy as np"
   ]
  },
  {
   "cell_type": "code",
   "execution_count": null,
   "id": "2c174577-56fa-4b06-9332-da320027b256",
   "metadata": {
    "tags": []
   },
   "outputs": [],
   "source": [
    "rng = np.random.default_rng(seed=42)\n",
    "months = ['Sep', 'Oct', 'Nov', 'Dec', 'Jan', 'Feb', 'Mar', 'Apr', 'May', 'Jun']\n",
    "our_rng = rng.integers(70,100,size=10)"
   ]
  },
  {
   "cell_type": "markdown",
   "id": "b24ba501-b497-4b38-929e-b1f5f080da7b",
   "metadata": {},
   "source": [
    "### Creating the Test Scores Series"
   ]
  },
  {
   "cell_type": "code",
   "execution_count": null,
   "id": "a488f9ad-f702-4709-8bbb-7a4f67da2c0f",
   "metadata": {
    "tags": []
   },
   "outputs": [],
   "source": [
    "scores = pd.Series(our_rng,index=[months])\n",
    "print(scores)"
   ]
  },
  {
   "cell_type": "markdown",
   "id": "264f614d-3ca0-4120-be95-1b4c6a208ba7",
   "metadata": {
    "tags": []
   },
   "source": [
    "### Analyzing the Test Scores"
   ]
  },
  {
   "cell_type": "code",
   "execution_count": null,
   "id": "213442d4-a1f0-4d51-b27d-09f78577e89f",
   "metadata": {
    "tags": []
   },
   "outputs": [],
   "source": [
    "# 1. What is the student’s average test score for the entire year?\n",
    "print(scores.mean())"
   ]
  },
  {
   "cell_type": "code",
   "execution_count": null,
   "id": "95f920c9-8ccc-41fa-971f-e1d00a5b055a",
   "metadata": {
    "tags": []
   },
   "outputs": [],
   "source": [
    "# 2. What is the student’s average test score during the first half of the year?\n",
    "first_h_avg = scores[0:5].mean()"
   ]
  },
  {
   "cell_type": "code",
   "execution_count": null,
   "id": "d8c06fdf-b970-4080-a7f4-397e971dd2fe",
   "metadata": {
    "tags": []
   },
   "outputs": [],
   "source": [
    "# 3. What is the student's average test score during the second half of the year?\n",
    "second_h_avg = scores[6:11].mean()"
   ]
  },
  {
   "cell_type": "code",
   "execution_count": null,
   "id": "1b7acdb0-4a10-435b-93ff-ac2d7392cefd",
   "metadata": {
    "tags": []
   },
   "outputs": [],
   "source": [
    "# 4. Did the student improve their performance in the second half? If so, by how much?\n",
    "# no, they got worse.\n",
    "print(f\"This student's change from first to second half of year was: {second_h_avg - first_h_avg:.2f}\")"
   ]
  },
  {
   "cell_type": "markdown",
   "id": "0c191add-a9e2-4370-8a3d-c3095ccc5958",
   "metadata": {},
   "source": [
    "### Exploring Reproducibility"
   ]
  },
  {
   "cell_type": "code",
   "execution_count": null,
   "id": "011a5bf8-6296-4b9a-b1e3-e857ffe79b19",
   "metadata": {
    "tags": []
   },
   "outputs": [],
   "source": [
    "rng1 = np.random.default_rng(seed=42)\n",
    "rng2 = np.random.default_rng(seed=42)\n",
    "\n",
    "series1 = pd.Series(rng1.integers(70, 101, size=10), index=months)\n",
    "series2 = pd.Series(rng2.integers(70, 101, size=10), index=months)\n",
    "\n",
    "print(series1.equals(series2))  # This should return True"
   ]
  },
  {
   "cell_type": "code",
   "execution_count": null,
   "id": "323752ee-c1ed-45e7-8463-2dd47a43cb06",
   "metadata": {
    "tags": []
   },
   "outputs": [],
   "source": [
    "rng3 = np.random.default_rng(seed=42)\n",
    "rng4 = np.random.default_rng(seed=123)\n",
    "\n",
    "series3 = pd.Series(rng3.integers(70, 101, size=10), index=months)\n",
    "series4 = pd.Series(rng4.integers(70, 101, size=10), index=months)\n",
    "\n",
    "print(series3.equals(series4))  # This should return False"
   ]
  }
 ],
 "metadata": {
  "kernelspec": {
   "display_name": "Python 3.10.0",
   "language": "python",
   "name": "python3.10.0"
  },
  "language_info": {
   "codemirror_mode": {
    "name": "ipython",
    "version": 3
   },
   "file_extension": ".py",
   "mimetype": "text/x-python",
   "name": "python",
   "nbconvert_exporter": "python",
   "pygments_lexer": "ipython3",
   "version": "3.10.0"
  }
 },
 "nbformat": 4,
 "nbformat_minor": 5
}
