{
 "cells": [
  {
   "cell_type": "markdown",
   "id": "5608859c-e122-4ea1-b1b5-97a4ce0928f9",
   "metadata": {},
   "source": [
    "First, import pandas, matplotlib, and seaborn and load the three datasets."
   ]
  },
  {
   "cell_type": "code",
   "execution_count": null,
   "id": "6bda7840-ca06-45a1-8e0b-d249b3d1340a",
   "metadata": {
    "tags": []
   },
   "outputs": [],
   "source": [
    "import pandas as pd\n",
    "import matplotlib as plt\n",
    "import seaborn as sns"
   ]
  },
  {
   "cell_type": "code",
   "execution_count": null,
   "id": "fdbbfa41-40a3-4270-bc19-77f25e1eafac",
   "metadata": {
    "tags": []
   },
   "outputs": [],
   "source": [
    "url_2023 = \"https://prism.oregonstate.edu/projects/phm_data/phzm_us_zipcode_2023.csv\"\n",
    "df_2023 = pd.read_csv(url_2023)"
   ]
  },
  {
   "cell_type": "code",
   "execution_count": null,
   "id": "d5b08b72-c019-478d-a959-6227507c752d",
   "metadata": {
    "tags": []
   },
   "outputs": [],
   "source": [
    "url_2012 = \"https://prism.oregonstate.edu/projects/public/phm/2012/phm_us_zipcode_2012.csv\"\n",
    "df_2012 = pd.read_csv(url_2012)"
   ]
  },
  {
   "cell_type": "code",
   "execution_count": null,
   "id": "74bf79c5-b801-4d60-9fef-6017d568f624",
   "metadata": {
    "tags": []
   },
   "outputs": [],
   "source": [
    "url_zipcodes = \"http://uszipcodelist.com/zip_code_database.csv\"\n",
    "df_zipcodes = pd.read_csv(url_zipcodes)"
   ]
  },
  {
   "cell_type": "markdown",
   "id": "f769b58c-32cc-476b-bc4c-a3851171205b",
   "metadata": {},
   "source": [
    "Display the first few rows and print out the dataset info to get an idea of the contents of each dataset."
   ]
  },
  {
   "cell_type": "code",
   "execution_count": null,
   "id": "103a9921-f933-4591-bb5f-6608ad663609",
   "metadata": {
    "tags": []
   },
   "outputs": [],
   "source": [
    "df_2023.head()"
   ]
  },
  {
   "cell_type": "code",
   "execution_count": null,
   "id": "4d9200ce-6553-460d-8389-46718a4adaf2",
   "metadata": {
    "tags": []
   },
   "outputs": [],
   "source": [
    "df_2012.head()"
   ]
  },
  {
   "cell_type": "code",
   "execution_count": null,
   "id": "9d322ecb-a4d2-4b69-b187-17c09281be39",
   "metadata": {
    "tags": []
   },
   "outputs": [],
   "source": [
    "df_zipcodes.head()"
   ]
  },
  {
   "cell_type": "code",
   "execution_count": null,
   "id": "78e1217e-0581-41e8-829c-8e53f156a767",
   "metadata": {
    "tags": []
   },
   "outputs": [],
   "source": [
    "df_2012['zipcode'] = df_2012['zipcode'].astype(str).str.zfill(5)\n",
    "df_2023['zipcode'] = df_2023['zipcode'].astype(str).str.zfill(5)\n",
    "df_zipcodes['zip'] = df_zipcodes['zip'].astype(str).str.zfill(5)\n",
    "print(df_2012['zipcode'])\n",
    "print(df_2023['zipcode'])\n",
    "print(df_zipcodes['zip'])"
   ]
  },
  {
   "cell_type": "code",
   "execution_count": null,
   "id": "4fed5893-6e24-40a5-aa42-8c76fe512e9f",
   "metadata": {
    "tags": []
   },
   "outputs": [],
   "source": [
    "df_2012['year'] = 2012\n",
    "df_2023['year'] = 2023\n",
    "\n",
    "merged_df = pd.concat([df_2012, df_2023])\n",
    "merged_df.tail()"
   ]
  },
  {
   "cell_type": "code",
   "execution_count": null,
   "id": "2d30932a-fba1-4f0b-9021-3ec58cfeb892",
   "metadata": {
    "tags": []
   },
   "outputs": [],
   "source": [
    "new_split = merged_df['trange'].str.split(expand=True, pat = \" to \")\n",
    "print(new_split)"
   ]
  },
  {
   "cell_type": "code",
   "execution_count": null,
   "id": "035874c7-7e38-4f32-b04e-d1d8773a3433",
   "metadata": {
    "tags": []
   },
   "outputs": [],
   "source": [
    "merged_df['trange_min'] = pd.to_numeric(new_split[0])\n",
    "merged_df['trange_max'] = pd.to_numeric(new_split[1])\n",
    "\n",
    "merged_df.head()"
   ]
  },
  {
   "cell_type": "code",
   "execution_count": null,
   "id": "24512763-d0be-48e1-ada5-0b5501025961",
   "metadata": {},
   "outputs": [],
   "source": [
    "new_df = merged_df.drop('trange',axis=1)"
   ]
  },
  {
   "cell_type": "code",
   "execution_count": null,
   "id": "44332ead-dbfe-43b3-8d09-e0e44e1428db",
   "metadata": {
    "tags": []
   },
   "outputs": [],
   "source": [
    "new_df.head()"
   ]
  },
  {
   "cell_type": "code",
   "execution_count": null,
   "id": "a0855ccc-0100-45e8-bbac-41b4db06084e",
   "metadata": {},
   "outputs": [],
   "source": [
    "new_df.groupby('year')['trange_min'].mean()"
   ]
  },
  {
   "cell_type": "code",
   "execution_count": null,
   "id": "9cdc69bf-7df7-45a2-8d69-f450398a731a",
   "metadata": {
    "tags": []
   },
   "outputs": [],
   "source": [
    "df_zipcodes = df_zipcodes.rename(columns = {\"zip\": \"zipcode\"})\n",
    "df_zipcodes.head()"
   ]
  },
  {
   "cell_type": "code",
   "execution_count": null,
   "id": "dbdd3097-1e27-44ef-b4cb-6111b34ac00e",
   "metadata": {
    "tags": []
   },
   "outputs": [],
   "source": [
    "full_df = pd.merge(new_df, df_zipcodes, on='zipcode', how='inner')\n",
    "full_df.head()"
   ]
  },
  {
   "cell_type": "code",
   "execution_count": null,
   "id": "aff95411-d79d-4e37-bf75-5c89481a9b14",
   "metadata": {
    "tags": []
   },
   "outputs": [],
   "source": [
    "full_df = full_df[full_df['longitude'] < -60]\n",
    "sns.scatterplot(data = full_df, x = 'longitude', y = 'latitude', hue = 'trange_min')\n",
    "sns.scatterplot(data = full_df, x = 'longitude', y = 'latitude', hue = 'trange_min')"
   ]
  },
  {
   "cell_type": "code",
   "execution_count": null,
   "id": "e141bd47-0c05-4636-9eb3-0b2cd411c7a1",
   "metadata": {},
   "outputs": [],
   "source": []
  }
 ],
 "metadata": {
  "kernelspec": {
   "display_name": "Python 3.10.0",
   "language": "python",
   "name": "python3.10.0"
  },
  "language_info": {
   "codemirror_mode": {
    "name": "ipython",
    "version": 3
   },
   "file_extension": ".py",
   "mimetype": "text/x-python",
   "name": "python",
   "nbconvert_exporter": "python",
   "pygments_lexer": "ipython3",
   "version": "3.10.0"
  }
 },
 "nbformat": 4,
 "nbformat_minor": 5
}
