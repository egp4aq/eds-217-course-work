{
 "cells": [
  {
   "cell_type": "markdown",
   "id": "96ff0409-0636-4bd1-b5ef-65e153d53632",
   "metadata": {},
   "source": [
    "# Day 1: Session C - Variables & Strings\n",
    "\n",
    "[Session Webpage](https://eds-217-essential-python.github.io/course-materials/interactive-sessions/1c_variables_strings.html)\n",
    "\n",
    "Date: 09/03/2024"
   ]
  },
  {
   "cell_type": "markdown",
   "id": "e86e943d-7793-4f77-b8aa-254800a77ffa",
   "metadata": {},
   "source": [
    "## Variable Types\n",
    "\n",
    "_everything is an object_\n",
    "\n",
    "_italics_\n",
    "\n",
    "**bold**"
   ]
  },
  {
   "cell_type": "code",
   "execution_count": null,
   "id": "14b53122-91e9-4356-a976-869b40ac106e",
   "metadata": {
    "tags": []
   },
   "outputs": [],
   "source": [
    "number = 42\n",
    "text = \"Hello, world!\"\n",
    "pi = 3.14159\n",
    "data = [1, 2, 3, 4, 5]"
   ]
  },
  {
   "cell_type": "markdown",
   "id": "22ec5729-4ba3-4040-89ef-8021103fc6e4",
   "metadata": {},
   "source": [
    "Most common built-in types:\n",
    "- `int`: Integers\n",
    "- `float`: Floating point numbers (e.g. 2.34)\n",
    "- `str`: Strings (characters, text, etc...)\n",
    "- `list`: A collection of things"
   ]
  },
  {
   "cell_type": "code",
   "execution_count": null,
   "id": "b2f18e9d-375f-47bc-ab47-bb58ba4571db",
   "metadata": {
    "tags": []
   },
   "outputs": [],
   "source": [
    "print(type(number))\n",
    "print(type(text))\n",
    "print(type(pi))\n",
    "print(type(data))"
   ]
  },
  {
   "cell_type": "markdown",
   "id": "f21c5e7c-e56e-48a2-a854-d2f004677c01",
   "metadata": {},
   "source": [
    "## Exploring Methods\n",
    "\n",
    "### Discovering Methods"
   ]
  },
  {
   "cell_type": "code",
   "execution_count": null,
   "id": "e6863552-dec7-4587-91c0-2ba2cdeb329d",
   "metadata": {
    "tags": []
   },
   "outputs": [],
   "source": [
    "list_of_methods = dir(text)\n",
    "print(list_of_methods)"
   ]
  },
  {
   "cell_type": "code",
   "execution_count": null,
   "id": "58ade0fc-93a8-46e4-b55a-d8e333ca822d",
   "metadata": {
    "tags": []
   },
   "outputs": [],
   "source": [
    "text = \" not all Upper case        \"\n",
    "\n",
    "# Convert to upper case:\n",
    "print(text.upper())\n",
    "\n",
    "# Convert to lower case:\n",
    "print(text.lower())\n",
    "\n",
    "# Replace a substring:\n",
    "print(text.replace(\"Upper\",\"Lower\"))\n",
    "\n",
    "# Strip out trailing (and leading) whitespace, including tabs and newlines!\n",
    "print(text.strip())"
   ]
  },
  {
   "cell_type": "markdown",
   "id": "c912b386-f9f4-4f9c-a7a6-5c9c1ed09843",
   "metadata": {},
   "source": [
    "### Combining Methods\n",
    "\n",
    "We can combine methods. Most functions return an instance of an object, so we can use that to run another command. This is called **method chaining**.\n",
    "\n",
    "An example would be string normalization, where we want to \n",
    "\n",
    "1. remove leading/trailing whitespace\n",
    "2. make everything lowercase\n",
    "3. replace whitespace with `_`.\n",
    "\n",
    "#### The hard way:"
   ]
  },
  {
   "cell_type": "code",
   "execution_count": null,
   "id": "82efccf7-f4b2-4111-ad90-79c4a7468097",
   "metadata": {
    "tags": []
   },
   "outputs": [],
   "source": [
    "column_bad = '  Air Temperature'\n",
    "# Step 1: strip leading/trailing whitespace\n",
    "column_better = column_bad.strip()\n",
    "\n",
    "# Step 2: make everything lowercase\n",
    "column_even_better = column_better.lower()\n",
    "\n",
    "# Step 3: replace whitespace\n",
    "column_best = column_even_better.replace(' ', '_')\n",
    "\n",
    "print(column_best)"
   ]
  },
  {
   "cell_type": "markdown",
   "id": "bee59c9e-978b-4f2f-8811-d47f2761e54b",
   "metadata": {},
   "source": [
    "#### The Pythonic way:"
   ]
  },
  {
   "cell_type": "code",
   "execution_count": null,
   "id": "b054ee9c-521d-41cc-8d6a-6066f2df83da",
   "metadata": {
    "tags": []
   },
   "outputs": [],
   "source": [
    "print(column_bad.strip().lower().replace(' ', '_'))"
   ]
  },
  {
   "cell_type": "markdown",
   "id": "f6377905-af16-4a3d-917c-1e47660dde7b",
   "metadata": {},
   "source": [
    "### A more complicated example.\n",
    "\n",
    "Looping through a list of strings and normalizing each one!\n",
    "\n",
    "0. Make a list of strings\n",
    "1. Make a for loop to loop through the strings\n",
    "2. Normalize each string\n",
    "3. Print out the normalized string"
   ]
  },
  {
   "cell_type": "code",
   "execution_count": null,
   "id": "241a074c-252f-4a4a-927d-573ae626a258",
   "metadata": {
    "tags": []
   },
   "outputs": [],
   "source": [
    "# Step 0:\n",
    "strings_to_normalize = [\n",
    "    \"data science\",\n",
    "    \"  MACHINE learning \",\n",
    "    \"Artificial Intelligence\\t\",\n",
    "    \" Natural\\nLanguage Processing \"\n",
    "]\n",
    "print(\"Your Normalized Strings:\")\n",
    "print(\"========================\")\n",
    "\n",
    "# Step 1:\n",
    "for string in strings_to_normalize:\n",
    "    # Our normalization code here:\n",
    "    normalized = string.strip().lower().replace('\\n','_').replace(' ','_') \n",
    "    print(f\"Original: '{string}'\")\n",
    "    print(f\"Normalized: '{normalized}'\")\n",
    "    print()"
   ]
  },
  {
   "cell_type": "code",
   "execution_count": null,
   "id": "53553889-425a-471e-9b96-3ff611498274",
   "metadata": {
    "tags": []
   },
   "outputs": [],
   "source": [
    "import this"
   ]
  },
  {
   "cell_type": "code",
   "execution_count": null,
   "id": "9d0abf80-91ac-4e2e-bd60-02b80d59c6c4",
   "metadata": {},
   "outputs": [],
   "source": []
  }
 ],
 "metadata": {
  "kernelspec": {
   "display_name": "Python 3.10.0",
   "language": "python",
   "name": "python3.10.0"
  },
  "language_info": {
   "codemirror_mode": {
    "name": "ipython",
    "version": 3
   },
   "file_extension": ".py",
   "mimetype": "text/x-python",
   "name": "python",
   "nbconvert_exporter": "python",
   "pygments_lexer": "ipython3",
   "version": "3.10.0"
  }
 },
 "nbformat": 4,
 "nbformat_minor": 5
}
