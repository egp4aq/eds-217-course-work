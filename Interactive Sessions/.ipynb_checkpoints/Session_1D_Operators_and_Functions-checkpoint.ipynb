{
 "cells": [
  {
   "cell_type": "markdown",
   "id": "2723462a-22e5-48f1-8a64-02b8818b6f40",
   "metadata": {
    "tags": []
   },
   "source": [
    "# Day 1: Session D - Operators & Functions\n",
    "\n",
    "[Session Webpage](https://eds-217-essential-python.github.io/course-materials/interactive-sessions/1d_operators_functions.html)\n",
    "\n",
    "Date: 09/03/2024"
   ]
  },
  {
   "cell_type": "code",
   "execution_count": null,
   "id": "d5761ca8-16d8-45d3-aa4d-7a63f15ecd1e",
   "metadata": {
    "tags": []
   },
   "outputs": [],
   "source": [
    "x = 1\n",
    "y = 42"
   ]
  },
  {
   "cell_type": "code",
   "execution_count": null,
   "id": "0fb39d2a-3283-48d7-885d-07f50ddeced4",
   "metadata": {
    "tags": []
   },
   "outputs": [],
   "source": [
    "a = 1.0\n",
    "b = 42.0\n",
    "c = 23.782043"
   ]
  },
  {
   "cell_type": "markdown",
   "id": "c05142dd-3ebc-412b-b68d-a6841a2f4799",
   "metadata": {},
   "source": [
    "### Compound Assignment Operators"
   ]
  },
  {
   "cell_type": "code",
   "execution_count": null,
   "id": "01a09ad2-7c6d-4873-8eb1-334e1f1470db",
   "metadata": {
    "tags": []
   },
   "outputs": [],
   "source": [
    "count = 10\n",
    "\n",
    "count -= 1\n",
    "print(count)\n",
    "\n",
    "count += 2\n",
    "print(count)\n",
    "\n",
    "count *= 3\n",
    "print(count)"
   ]
  },
  {
   "cell_type": "code",
   "execution_count": null,
   "id": "b67c6e17-d860-440f-9dba-b734d99b6783",
   "metadata": {
    "tags": []
   },
   "outputs": [],
   "source": [
    "# Initialize the score\n",
    "score = 100\n",
    "\n",
    "# TODO: Use compound assignment to decrease the score by 15\n",
    "# Your code here\n",
    "score -= 15\n",
    "\n",
    "# TODO: Use compound assignment to double the score\n",
    "# Your code here\n",
    "score *= 2\n",
    "\n",
    "# TODO: Use compound assignment to divide the score by 5\n",
    "# Your code here\n",
    "score /= 5\n",
    "\n",
    "print(f\"Final score: {score}\")  # Expected output: 34.0"
   ]
  },
  {
   "cell_type": "markdown",
   "id": "22679e1f-ec04-4c62-b160-238c735d1128",
   "metadata": {},
   "source": [
    "### Boolean Operators"
   ]
  },
  {
   "cell_type": "code",
   "execution_count": null,
   "id": "4275848b-4611-4305-9654-5566de09964b",
   "metadata": {
    "tags": []
   },
   "outputs": [],
   "source": [
    "print(b >= a)\n",
    "print(87 <= -2)\n",
    "print(y == x)\n",
    "print(2 == 2.0)"
   ]
  },
  {
   "cell_type": "code",
   "execution_count": null,
   "id": "45d1e23f-6dc4-4b37-b662-99a1f4288e73",
   "metadata": {
    "tags": []
   },
   "outputs": [],
   "source": [
    "isinstance(12, int)"
   ]
  },
  {
   "cell_type": "code",
   "execution_count": null,
   "id": "14858a00-ba45-4171-832e-cb07984eb119",
   "metadata": {
    "tags": []
   },
   "outputs": [],
   "source": [
    "isinstance('a string', (int, float))"
   ]
  },
  {
   "cell_type": "markdown",
   "id": "8bfa2d63-19da-4e44-a4a1-bdd87d114f7a",
   "metadata": {},
   "source": [
    "### Converting types\n",
    "\n",
    "Use `float`, `int`, `str`, etc... to convert types"
   ]
  },
  {
   "cell_type": "code",
   "execution_count": null,
   "id": "c4bff1bb-1ade-4683-ade6-c33d3a2de4da",
   "metadata": {
    "tags": []
   },
   "outputs": [],
   "source": [
    "print(float(x))\n",
    "print(int(a))\n",
    "print(str(b))"
   ]
  },
  {
   "cell_type": "code",
   "execution_count": null,
   "id": "52fe448a-408e-41ab-bfcf-52ed6ea43af2",
   "metadata": {
    "tags": []
   },
   "outputs": [],
   "source": [
    "print(round(c, 1))"
   ]
  },
  {
   "cell_type": "code",
   "execution_count": null,
   "id": "4adacd6e-6763-4bb4-9ea8-ad4b7160dbf2",
   "metadata": {
    "tags": []
   },
   "outputs": [],
   "source": [
    "q1a = \"What is Newton's 1st law of motion?\"\n",
    "q1b = 'What is Newton\\'s 1st law of motion?'\n",
    "\n",
    "# Are q1a and q1b the same?\n",
    "q1a == q1b"
   ]
  },
  {
   "cell_type": "code",
   "execution_count": null,
   "id": "c77649e6-9744-4254-8ff9-6a0cd1f20935",
   "metadata": {
    "tags": []
   },
   "outputs": [],
   "source": [
    "# l(a or (A leaf falls on loneliness) by e.e. cummings\n",
    "la = \"\"\"\n",
    "l(a\n",
    "le\n",
    "af\n",
    "fa\n",
    "ll\n",
    "s)\n",
    "one\n",
    "l\n",
    "iness\n",
    "\"\"\"\n",
    "print(la)"
   ]
  },
  {
   "cell_type": "code",
   "execution_count": null,
   "id": "aa894e50-d26d-417d-b338-1518adf66041",
   "metadata": {
    "tags": []
   },
   "outputs": [],
   "source": [
    "print('isaac' + ' ' + 'newton')"
   ]
  },
  {
   "cell_type": "markdown",
   "id": "714b9b82-7eab-4904-b2f4-9e9ed6a5a5da",
   "metadata": {},
   "source": [
    "### Formatted Print Statements (f strings)\n",
    "\n",
    "Use f-string notation to include variables + text in your print statements!"
   ]
  },
  {
   "cell_type": "code",
   "execution_count": null,
   "id": "277236c6-cfff-46a0-9873-13c911f11d03",
   "metadata": {
    "tags": []
   },
   "outputs": [],
   "source": [
    "name = 'Alice'\n",
    "age = 30\n",
    "\n",
    "# Example of an f-string\n",
    "print(f'My name is {name} and I am {age} years old.')"
   ]
  },
  {
   "cell_type": "code",
   "execution_count": null,
   "id": "8e28dcc2-91b0-4a9f-8933-f7d4baf99235",
   "metadata": {
    "tags": []
   },
   "outputs": [],
   "source": [
    "pi = 3.141592653\n",
    "\n",
    "# Print with 4 decimal places:\n",
    "print(f\"The value of pi is: {pi:.3f}\")\n",
    "\n",
    "# Print with 4 decimal places and 6 integer places:\n",
    "print(f\"The value of pi is: {pi:10.4f}\")"
   ]
  },
  {
   "cell_type": "code",
   "execution_count": null,
   "id": "950e7921-3e27-4297-9f81-869091f16555",
   "metadata": {},
   "outputs": [],
   "source": []
  }
 ],
 "metadata": {
  "kernelspec": {
   "display_name": "Python 3.10.0",
   "language": "python",
   "name": "python3.10.0"
  },
  "language_info": {
   "codemirror_mode": {
    "name": "ipython",
    "version": 3
   },
   "file_extension": ".py",
   "mimetype": "text/x-python",
   "name": "python",
   "nbconvert_exporter": "python",
   "pygments_lexer": "ipython3",
   "version": "3.10.0"
  }
 },
 "nbformat": 4,
 "nbformat_minor": 5
}
