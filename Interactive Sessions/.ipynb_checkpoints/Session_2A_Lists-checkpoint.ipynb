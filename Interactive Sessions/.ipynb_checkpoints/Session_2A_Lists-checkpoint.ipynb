{
 "cells": [
  {
   "cell_type": "markdown",
   "id": "5ee90ede-769c-45f1-9711-28d052f2510e",
   "metadata": {},
   "source": [
    "# Day 2: Session A - Lists\n",
    "\n",
    "[Link to session webpage](https://eds-217-essential-python.github.io/course-materials/interactive-sessions/2a_lists.html)\n",
    "\n",
    "Date: 09/04/2024"
   ]
  },
  {
   "cell_type": "code",
   "execution_count": null,
   "id": "6b6de24f-49d5-4bec-9b80-e3e7f3a88174",
   "metadata": {
    "tags": []
   },
   "outputs": [],
   "source": [
    "num_list = [4, 23, 654, 2, 0, -12, 4391]\n",
    "str_list = ['energy', 'water', 'carbon']"
   ]
  },
  {
   "cell_type": "code",
   "execution_count": null,
   "id": "c401e9f6-aff2-4d20-9d06-a2bc0a313d3c",
   "metadata": {
    "tags": []
   },
   "outputs": [],
   "source": [
    "len(num_list)\n",
    "# number of elements in the list"
   ]
  },
  {
   "cell_type": "code",
   "execution_count": null,
   "id": "f5afb5ca-8d0f-415f-acb7-7d4a527e0d2e",
   "metadata": {
    "tags": []
   },
   "outputs": [],
   "source": [
    "len(str_list)"
   ]
  },
  {
   "cell_type": "code",
   "execution_count": null,
   "id": "0e56ae9b-d46e-48af-be5d-2c5a0257061f",
   "metadata": {
    "tags": []
   },
   "outputs": [],
   "source": [
    "print(min(str_list))\n",
    "# sorted by alphabetical sort order (carbon is min because c is before e and w)\n",
    "print(max(num_list))"
   ]
  },
  {
   "cell_type": "markdown",
   "id": "5cbae83a-d317-499b-9215-7d0e149b0ad6",
   "metadata": {},
   "source": [
    "## Indexing\n",
    "\n",
    "#### Python is zero indexed!"
   ]
  },
  {
   "cell_type": "code",
   "execution_count": null,
   "id": "eebab825-a73f-491a-a195-e38bb4e01b55",
   "metadata": {
    "tags": []
   },
   "outputs": [],
   "source": [
    "# The second element of a list is index position 1\n",
    "print(num_list[1])"
   ]
  },
  {
   "cell_type": "code",
   "execution_count": null,
   "id": "ed81e80e-5741-4ae0-9d23-f8f8e8967d41",
   "metadata": {
    "tags": []
   },
   "outputs": [],
   "source": [
    "# The last element of a list can be found using -1\n",
    "print(num_list[-1])"
   ]
  },
  {
   "cell_type": "code",
   "execution_count": null,
   "id": "65ccef0c-8aaa-4602-be43-08efba5035d7",
   "metadata": {
    "tags": []
   },
   "outputs": [],
   "source": [
    "# Two ways to access the second element in our string list\n",
    "print(str_list[1])\n",
    "print(str_list[-2])"
   ]
  },
  {
   "cell_type": "markdown",
   "id": "1b8bbfe9-3d87-4e3e-a682-eba1d3d8a654",
   "metadata": {},
   "source": [
    "## Slicing\n",
    "\n",
    "Selecting sections of a collection is \"slicing\".\n",
    "Python selectors are non-greedy, meaning it does not include the end element.\n",
    "Therefore, you can read the colon as \"up to but not including\"."
   ]
  },
  {
   "cell_type": "code",
   "execution_count": null,
   "id": "0b80caca-6c33-4197-b0bb-0d78d17df1b3",
   "metadata": {
    "tags": []
   },
   "outputs": [],
   "source": [
    "print(num_list)\n",
    "print(f\"slice from [2:4]: {num_list[2:4]}\")"
   ]
  },
  {
   "cell_type": "code",
   "execution_count": null,
   "id": "4729fa30-e30a-4d98-9958-bac56539dcd2",
   "metadata": {
    "tags": []
   },
   "outputs": [],
   "source": [
    "# Everything after a location including that location\n",
    "print(num_list[3:])"
   ]
  },
  {
   "cell_type": "code",
   "execution_count": null,
   "id": "ab980691-f5c3-4839-8d91-55f3db4343f3",
   "metadata": {
    "tags": []
   },
   "outputs": [],
   "source": [
    "print(f\"num_list[2:6]:{num_list[2:6]}\")"
   ]
  },
  {
   "cell_type": "code",
   "execution_count": null,
   "id": "2c408655-c973-4e3d-838b-02e6631e6ca6",
   "metadata": {
    "tags": []
   },
   "outputs": [],
   "source": [
    "print(f\"num_list[:4]:{num_list[:4]}\")"
   ]
  },
  {
   "cell_type": "code",
   "execution_count": null,
   "id": "8ce30cc8-f6b7-4baa-928e-be003dc55044",
   "metadata": {
    "tags": []
   },
   "outputs": [],
   "source": [
    "print(f\"num_list[-6:-1]:{num_list[-6:-1]}\")"
   ]
  },
  {
   "cell_type": "code",
   "execution_count": null,
   "id": "3743d207-94f3-4956-b660-5dbc632497af",
   "metadata": {
    "tags": []
   },
   "outputs": [],
   "source": [
    "# Let's go through num_list from start to end in steps of 2\n",
    "num_list[0::2]"
   ]
  },
  {
   "cell_type": "code",
   "execution_count": null,
   "id": "d84b5755-fb9e-4b7c-a955-f39801ffd06c",
   "metadata": {
    "tags": []
   },
   "outputs": [],
   "source": [
    "num_list[-1:0:-1]"
   ]
  },
  {
   "cell_type": "markdown",
   "id": "a1e34497-b299-4848-8d9c-b48566f718ee",
   "metadata": {},
   "source": [
    "## String indicies\n",
    "\n",
    "similar to lists..."
   ]
  },
  {
   "cell_type": "code",
   "execution_count": null,
   "id": "39b0112c-781a-469d-8f72-eb80b13fdb8e",
   "metadata": {
    "tags": []
   },
   "outputs": [],
   "source": [
    "word_str = 'antidisestablishmentarianism'"
   ]
  },
  {
   "cell_type": "code",
   "execution_count": null,
   "id": "b7af87b6-8ac7-4fa6-b0ac-bba319aa9713",
   "metadata": {
    "tags": []
   },
   "outputs": [],
   "source": [
    "word_str[14]"
   ]
  },
  {
   "cell_type": "code",
   "execution_count": null,
   "id": "27eaa838-3fb3-4b5f-802d-b08f3fd6fe60",
   "metadata": {
    "tags": []
   },
   "outputs": [],
   "source": [
    "word_str[-1]"
   ]
  },
  {
   "cell_type": "code",
   "execution_count": null,
   "id": "ce7d03fb-ab60-45e9-9279-cddee63b1bf2",
   "metadata": {
    "tags": []
   },
   "outputs": [],
   "source": [
    "# select every third letter\n",
    "word_str[::3]"
   ]
  },
  {
   "cell_type": "code",
   "execution_count": null,
   "id": "5ea92d47-662a-476f-bf5f-a90a25595c2c",
   "metadata": {
    "tags": []
   },
   "outputs": [],
   "source": [
    "colors = ['red', 'blue', 'green', 'black', 'white', 'pink']"
   ]
  },
  {
   "cell_type": "code",
   "execution_count": null,
   "id": "7d5ec839-ef0c-4d89-866a-6d753b2f0914",
   "metadata": {
    "tags": []
   },
   "outputs": [],
   "source": [
    "# Add element x to a list at position i using insert(i, x)\n",
    "colors = ['red', 'blue', 'green', 'black', 'white', 'pink']\n",
    "colors.insert(3, 'purple')\n",
    "print(colors)"
   ]
  },
  {
   "cell_type": "code",
   "execution_count": null,
   "id": "a49104f5-0d17-4ff5-bba4-154e9ea1a9db",
   "metadata": {
    "tags": []
   },
   "outputs": [],
   "source": [
    "# Remove from the end of a list using pop\n",
    "colors = ['red', 'blue', 'green', 'black', 'white', 'pink']\n",
    "colors.pop()\n",
    "print(colors)\n",
    "# if we want to take out a different element, just put in the index of the element\n",
    "colors.pop(1)\n",
    "print(colors)"
   ]
  },
  {
   "cell_type": "code",
   "execution_count": null,
   "id": "1df9e239-4e86-419c-a615-7d68f37aa5f6",
   "metadata": {
    "tags": []
   },
   "outputs": [],
   "source": [
    "# Use remove to get rid of a specific value \n",
    "colors = ['red', 'blue', 'green', 'black', 'white', 'pink']\n",
    "colors.remove('red')\n",
    "print(colors)"
   ]
  },
  {
   "cell_type": "code",
   "execution_count": null,
   "id": "555f5349-ae90-439a-a85b-ac00f4fcae8b",
   "metadata": {
    "tags": []
   },
   "outputs": [],
   "source": [
    "# Use del for removing slices\n",
    "colors = ['red', 'blue', 'green', 'black', 'white', 'pink']\n",
    "del colors[2:] # deletes from index position 2 until the end\n",
    "print(colors)"
   ]
  },
  {
   "cell_type": "markdown",
   "id": "7a62eace-a14f-46eb-8ee0-3f29844b64c5",
   "metadata": {},
   "source": [
    "#### Apply what we've learned:"
   ]
  },
  {
   "cell_type": "code",
   "execution_count": null,
   "id": "f5eb5305-e6ae-4b69-b46b-0fc9c57806bf",
   "metadata": {
    "tags": []
   },
   "outputs": [],
   "source": [
    "colors = ['red', 'blue', 'green', 'purple', 'black', 'white', 'pink']"
   ]
  },
  {
   "cell_type": "code",
   "execution_count": null,
   "id": "64576431-296d-498e-9afb-a3953d206abd",
   "metadata": {
    "tags": []
   },
   "outputs": [],
   "source": [
    "# Try it. Remove pink and purple from colors, using del for one of the strings and list.remove() for the other."
   ]
  },
  {
   "cell_type": "code",
   "execution_count": null,
   "id": "63ba691d-6656-415c-ab03-ce339f93f2de",
   "metadata": {
    "tags": []
   },
   "outputs": [],
   "source": [
    "del colors[-1]\n",
    "print(colors)\n",
    "colors.remove('purple')\n",
    "print(colors)"
   ]
  },
  {
   "cell_type": "code",
   "execution_count": null,
   "id": "bee09f72-3c2f-4aad-90ec-d696317719d6",
   "metadata": {
    "tags": []
   },
   "outputs": [],
   "source": [
    "#help(colors)"
   ]
  },
  {
   "cell_type": "markdown",
   "id": "71641a88-8853-4530-bce6-f4be0721892c",
   "metadata": {},
   "source": [
    "## Sorting lists"
   ]
  },
  {
   "cell_type": "code",
   "execution_count": null,
   "id": "269dfcb1-761e-493b-b7d1-39e4b260fe1e",
   "metadata": {
    "tags": []
   },
   "outputs": [],
   "source": [
    "rand_list = [5.1 , 3.42 , 3.333 , 100.4 , 0.5 , 26.0 , 7.44 , 5.8 , 39.0]\n",
    "rand_list.sort()\n",
    "print(rand_list)"
   ]
  },
  {
   "cell_type": "code",
   "execution_count": null,
   "id": "5a84ab51-38a4-477e-a32f-50d6780429a3",
   "metadata": {
    "tags": []
   },
   "outputs": [],
   "source": [
    "# Use the reverse argument to get a list from largest to smallest\n",
    "rand_list = [5.1 , 3.42 , 3.333 , 100.4 , 0.5 , 26.0 , 7.44 , 5.8 , 39.0]\n",
    "rand_list.sort(reverse=True)\n",
    "print(rand_list)"
   ]
  },
  {
   "cell_type": "code",
   "execution_count": null,
   "id": "be04d1a5-b79b-4b5b-b2d1-dfe2930a32ef",
   "metadata": {
    "tags": []
   },
   "outputs": [],
   "source": [
    "# To get a new list that is sorted, we use the sorted function\n",
    "rand_list = [5.1 , 3.42 , 3.333 , 100.4 , 0.5 , 26.0 , 7.44 , 5.8 , 39.0]\n",
    "new_list = sorted(rand_list)\n",
    "print(f\"rand_list: {rand_list}\")\n",
    "print(f\"new_list: {new_list}\")"
   ]
  },
  {
   "cell_type": "code",
   "execution_count": null,
   "id": "d964695b-3f3e-49ab-b8d3-0b74807ea030",
   "metadata": {
    "tags": []
   },
   "outputs": [],
   "source": [
    "# Use .copy() to avoid changing the original variable\n",
    "rand_list = [5.1 , 3.42 , 3.333 , 100.4 , 0.5 , 26.0 , 7.44 , 5.8 , 39.0]\n",
    "new_list = rand_list.copy()\n",
    "new_list.sort()\n",
    "print(f\"new list after sorting: {new_list}\")"
   ]
  },
  {
   "cell_type": "markdown",
   "id": "849dde81-c704-4f12-b977-636948bf2282",
   "metadata": {},
   "source": [
    "## Basic Operators and Lists\n",
    "\n",
    "`+` `*`\n",
    "\n",
    "It's easy!"
   ]
  },
  {
   "cell_type": "code",
   "execution_count": null,
   "id": "fbc779c9-49ef-4c67-a6c9-1768ff84fc72",
   "metadata": {
    "tags": []
   },
   "outputs": [],
   "source": [
    "rainbow  = ['red', 'orange', 'yellow', 'green', 'blue', 'indigo', 'violet']\n",
    "shades = ['coral', 'chartreuse', 'cyan', 'navy']\n",
    "print( rainbow + shades )"
   ]
  },
  {
   "cell_type": "code",
   "execution_count": null,
   "id": "bd22919a-773a-45b8-94e3-1bfcb562e3c1",
   "metadata": {
    "tags": []
   },
   "outputs": [],
   "source": [
    "print(str_list * 2)\n",
    "print(num_list * 4)"
   ]
  },
  {
   "cell_type": "code",
   "execution_count": null,
   "id": "44d340c1-3eaf-4fc7-8771-481ff0a42bfe",
   "metadata": {
    "tags": []
   },
   "outputs": [],
   "source": [
    "print(['water','energy','carbon']*10)"
   ]
  },
  {
   "cell_type": "markdown",
   "id": "22538961-f06d-488f-9b02-f2a827de54c6",
   "metadata": {},
   "source": [
    "## Sequential Lists\n",
    "\n",
    "`range()` is a built-in function to make sequential lists"
   ]
  },
  {
   "cell_type": "code",
   "execution_count": null,
   "id": "02a766ec-3ffb-4b6b-908f-56ffff6b0288",
   "metadata": {
    "tags": []
   },
   "outputs": [],
   "source": [
    "a = list(range(4))\n",
    "print(a)"
   ]
  },
  {
   "cell_type": "code",
   "execution_count": null,
   "id": "bc287700-5259-47fb-96af-7c2e8ec0ec0b",
   "metadata": {
    "tags": []
   },
   "outputs": [],
   "source": [
    "# Get a list from 0 to 10 counting by 1 --> if we didn't put in a last argument, it would count by 1 by default\n",
    "print(list(range(0,11,1)))"
   ]
  },
  {
   "cell_type": "code",
   "execution_count": null,
   "id": "f62f1d88-9616-4399-a0b4-1b7077b962b8",
   "metadata": {},
   "outputs": [],
   "source": []
  }
 ],
 "metadata": {
  "kernelspec": {
   "display_name": "Python 3.10.0",
   "language": "python",
   "name": "python3.10.0"
  },
  "language_info": {
   "codemirror_mode": {
    "name": "ipython",
    "version": 3
   },
   "file_extension": ".py",
   "mimetype": "text/x-python",
   "name": "python",
   "nbconvert_exporter": "python",
   "pygments_lexer": "ipython3",
   "version": "3.10.0"
  }
 },
 "nbformat": 4,
 "nbformat_minor": 5
}
