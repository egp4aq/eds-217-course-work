{
 "cells": [
  {
   "cell_type": "markdown",
   "id": "5699fc68-8f72-4821-bbc0-e6c984414d21",
   "metadata": {},
   "source": [
    "# Day 4: Session A - Data Frames\n",
    "\n",
    "[Link to session webpage](https://eds-217-essential-python.github.io/course-materials/interactive-sessions/4a_dataframes.html)\n",
    "\n",
    "Date: 9/6/24"
   ]
  },
  {
   "cell_type": "code",
   "execution_count": null,
   "id": "6c2a322b-da3a-4df2-a0c5-c001b5c4faa0",
   "metadata": {
    "tags": []
   },
   "outputs": [],
   "source": [
    "import pandas as pd\n",
    "import numpy as np"
   ]
  },
  {
   "cell_type": "markdown",
   "id": "d6a7f0e1-23d8-454b-ad52-9bc9ee44e587",
   "metadata": {},
   "source": [
    "## Step 1: Import Data"
   ]
  },
  {
   "cell_type": "code",
   "execution_count": null,
   "id": "e5272dbc-1688-4bd2-91a8-20d452e1a6ca",
   "metadata": {
    "tags": []
   },
   "outputs": [],
   "source": [
    "url = \"https://raw.githubusercontent.com/datasets/world-cities/master/data/world-cities.csv\"\n",
    "cities_df = pd.read_csv(url)"
   ]
  },
  {
   "cell_type": "markdown",
   "id": "86487b73-5b44-4475-a800-84f73b9d5396",
   "metadata": {},
   "source": [
    "## Step 2: Explore Data\n",
    "\n",
    "- Figuring out the DataFrame structure\n",
    "- Looking at data types\n",
    "- Getting a sense of data values\n",
    "- Checking out column names"
   ]
  },
  {
   "cell_type": "code",
   "execution_count": null,
   "id": "a22676e2-eb66-4b70-a48f-83d175fbd3e5",
   "metadata": {
    "tags": []
   },
   "outputs": [],
   "source": [
    "cities_df.head()"
   ]
  },
  {
   "cell_type": "code",
   "execution_count": null,
   "id": "98ebc697-9b00-421b-92bd-3ffe1aafcfaf",
   "metadata": {
    "tags": []
   },
   "outputs": [],
   "source": [
    "cities_df.tail()"
   ]
  },
  {
   "cell_type": "markdown",
   "id": "6548dd8f-6310-414b-bbaf-1e93a5c38525",
   "metadata": {},
   "source": [
    "### Exploring DataFrames using their properties"
   ]
  },
  {
   "cell_type": "markdown",
   "id": "74445872-8b15-4557-ba6b-ffe177339d4a",
   "metadata": {},
   "source": [
    "Use `shape` property to get the size (rows x columns) of a dataframe"
   ]
  },
  {
   "cell_type": "code",
   "execution_count": null,
   "id": "603e2a1b-313e-484c-9e8c-614ced650df1",
   "metadata": {
    "tags": []
   },
   "outputs": [],
   "source": [
    "cities_df.shape\n",
    "# shape is a property, rather than a function, so we don't need parentheses\n",
    "# cities_df.shape is really just a variable that contains information about this dataframe"
   ]
  },
  {
   "cell_type": "markdown",
   "id": "78400884-350e-4f82-b67f-3ef0548cc3b5",
   "metadata": {},
   "source": [
    "Use `columns` to get a list of column names"
   ]
  },
  {
   "cell_type": "code",
   "execution_count": null,
   "id": "a0c61438-b4b6-45af-a233-b5e864d66812",
   "metadata": {
    "tags": []
   },
   "outputs": [],
   "source": [
    "cities_df.columns\n",
    "# returns an index quantity because columns are an index (rows are also index)"
   ]
  },
  {
   "cell_type": "markdown",
   "id": "867b0520-d955-4fab-9c76-3e9a9b37f26e",
   "metadata": {},
   "source": [
    "Determining the types of data using the `dtypes` property"
   ]
  },
  {
   "cell_type": "code",
   "execution_count": null,
   "id": "7d43574d-a405-4be1-95ab-1bb66ac8382d",
   "metadata": {
    "tags": []
   },
   "outputs": [],
   "source": [
    "cities_df.dtypes"
   ]
  },
  {
   "cell_type": "markdown",
   "id": "70a73cab-464b-4116-8bc3-7b507c799471",
   "metadata": {},
   "source": [
    "### Exploring DataFrames using their methods"
   ]
  },
  {
   "cell_type": "markdown",
   "id": "f8f4c7c6-c981-44a0-8561-d26383a61068",
   "metadata": {},
   "source": [
    "Use the `describe()` method to get a summary of the dataframe"
   ]
  },
  {
   "cell_type": "code",
   "execution_count": null,
   "id": "f95fba72-0d3c-442e-881c-3ceb9d96e322",
   "metadata": {
    "tags": []
   },
   "outputs": [],
   "source": [
    "cities_df.describe()\n",
    "# summarizes the numerical data in your df by column\n",
    "# so here it only returns geonameid because it's the only numerical data"
   ]
  },
  {
   "cell_type": "markdown",
   "id": "08a5e5ad-11ec-49fa-8275-afbe31389391",
   "metadata": {},
   "source": [
    "Use `info()` to get detailed information about column types and content"
   ]
  },
  {
   "cell_type": "code",
   "execution_count": null,
   "id": "05605616-e3f3-4c0e-9496-fa577034f811",
   "metadata": {
    "tags": []
   },
   "outputs": [],
   "source": [
    "cities_df.info()\n",
    "# helpful for showing which columns are missing data (non-null count)"
   ]
  },
  {
   "cell_type": "markdown",
   "id": "47e42236-6d4e-43f0-b289-0afa65049048",
   "metadata": {},
   "source": [
    "Use `isnull()` and `sum()` to count missing values"
   ]
  },
  {
   "cell_type": "code",
   "execution_count": null,
   "id": "3e38d9d2-1173-48f0-b913-2c20bb697956",
   "metadata": {
    "tags": []
   },
   "outputs": [],
   "source": [
    "cities_df.isnull().sum()"
   ]
  },
  {
   "cell_type": "markdown",
   "id": "2e2a26e3-1f23-4845-a60f-7ec3010a1e36",
   "metadata": {},
   "source": [
    "## Step 3: Clean Data"
   ]
  },
  {
   "cell_type": "markdown",
   "id": "1a8c774c-71f4-4363-ab64-d5c2e3917229",
   "metadata": {},
   "source": [
    "For removing missing data, `dropna()` is best, use `subset` argument to select specific columns"
   ]
  },
  {
   "cell_type": "code",
   "execution_count": null,
   "id": "a2442e56-8b2a-4ec0-9041-2258dd7ab42b",
   "metadata": {
    "tags": []
   },
   "outputs": [],
   "source": [
    "cities_df = cities_df.dropna(subset=['subcountry'])"
   ]
  },
  {
   "cell_type": "code",
   "execution_count": null,
   "id": "5a707c63-ce24-4c97-9314-0558a58b2f74",
   "metadata": {
    "tags": []
   },
   "outputs": [],
   "source": [
    "cities_df.isnull().sum()"
   ]
  },
  {
   "cell_type": "markdown",
   "id": "fed11d12-9191-4c99-b5ea-d6af3b26612f",
   "metadata": {},
   "source": [
    "## Step 4: Basic Selecting and Filtering"
   ]
  },
  {
   "cell_type": "markdown",
   "id": "292f32e7-1ff8-413d-b710-d5853a247e3b",
   "metadata": {},
   "source": [
    "### Basic Selecting"
   ]
  },
  {
   "cell_type": "markdown",
   "id": "67d9dfea-b5f6-47ed-a15b-3e5cedc8e7b9",
   "metadata": {},
   "source": [
    "Selecting a column is easy! Just add it to the dataframe with brackets"
   ]
  },
  {
   "cell_type": "code",
   "execution_count": null,
   "id": "94b1b1f3-b0d1-450c-98e1-4c19a938346e",
   "metadata": {
    "tags": []
   },
   "outputs": [],
   "source": [
    "cities_df['name'].head()\n",
    "# using .head() method to keep my notebook clean (don't do this in reality)"
   ]
  },
  {
   "cell_type": "code",
   "execution_count": null,
   "id": "5dd7e679-cbac-4167-b7ea-fb3d237af89d",
   "metadata": {
    "tags": []
   },
   "outputs": [],
   "source": [
    "cities_df[['name','country']].head()\n",
    "# if you want to select multiple columns, put the columns we want into a list ([[]])\n",
    "\n",
    "# list_we_want = ['name','country','subcountry']\n",
    "# cities_df[list_we_want]"
   ]
  },
  {
   "cell_type": "markdown",
   "id": "78c73725-ba8e-4860-b0de-1dc4aeed561f",
   "metadata": {},
   "source": [
    "To make a series from a column, request it like `df['column']`\n",
    "\n",
    "To make a dataframe from a column, request it as a single-item list: `df[['column']]`"
   ]
  },
  {
   "cell_type": "markdown",
   "id": "d9863d62-5b5a-452e-82f0-15cf7912d503",
   "metadata": {},
   "source": [
    "### Basic Filtering\n",
    "\n",
    "Use conditional expressions to filter rows"
   ]
  },
  {
   "cell_type": "code",
   "execution_count": null,
   "id": "aa14bb4c-ab18-4441-83e8-0456f7d94728",
   "metadata": {
    "tags": []
   },
   "outputs": [],
   "source": [
    "us_cities = cities_df[ cities_df['country'] == 'United States' ]\n",
    "# the `cities_df['country'] == 'United States'` part will give us T/F values\n",
    "\n",
    "# could be written as:\n",
    "# rows_we_want = cities_df['country'] == 'United States'\n",
    "# us_cities = cities_df[rows_we_want]\n",
    "\n",
    "us_cities.head()"
   ]
  },
  {
   "cell_type": "markdown",
   "id": "9959bb79-a24c-46af-b0f1-d29baa89c142",
   "metadata": {},
   "source": [
    "### Filtering on multiple columns\n",
    "\n",
    "We can combine logical operators to filter on multiple columns"
   ]
  },
  {
   "cell_type": "code",
   "execution_count": null,
   "id": "2a480f6a-b5ba-4b57-9afe-b22c82b3d950",
   "metadata": {
    "tags": []
   },
   "outputs": [],
   "source": [
    "in_us = cities_df['country'] == \"United States\"\n",
    "in_ca = cities_df['subcountry'] == \"California\"\n",
    "\n",
    "california_cities = cities_df[in_us & in_ca]\n",
    "california_cities.head()"
   ]
  },
  {
   "cell_type": "code",
   "execution_count": null,
   "id": "c7aff1b1-8158-4d02-94c8-21834bad07c2",
   "metadata": {
    "tags": []
   },
   "outputs": [],
   "source": [
    "# Efficient! But we need parentheses around each condition!!!!!\n",
    "california_cities = cities_df[\n",
    "    (cities_df['country'] == \"United States\") & \n",
    "    (cities_df['subcountry'] == \"California\")\n",
    "]"
   ]
  },
  {
   "cell_type": "markdown",
   "id": "a5a6073c-d619-4681-abb2-6028ea46dcc7",
   "metadata": {},
   "source": [
    "## Step 5: Sorting and Ranking\n",
    "\n",
    "coming soon ..."
   ]
  },
  {
   "cell_type": "markdown",
   "id": "e09d77a4-3836-4c05-af38-b2fc81497f23",
   "metadata": {},
   "source": [
    "## Step 6: Transformations\n",
    "\n",
    "coming soon ..."
   ]
  },
  {
   "cell_type": "markdown",
   "id": "c3a4b052-a857-4f96-b143-14aed34f5f64",
   "metadata": {},
   "source": [
    "## Steps 7 & 8: Grouping / Aggregation\n",
    "\n",
    "The workhorse method for grouping in pandas is `groupby()`"
   ]
  },
  {
   "cell_type": "code",
   "execution_count": null,
   "id": "38a28e6c-4f11-44b1-acaf-b5264eaf3bb2",
   "metadata": {
    "tags": []
   },
   "outputs": [],
   "source": [
    "cities_per_country = cities_df.groupby('country')"
   ]
  },
  {
   "cell_type": "code",
   "execution_count": null,
   "id": "b6bec277-ed07-40fd-82fd-3a3a06a2de41",
   "metadata": {
    "tags": []
   },
   "outputs": [],
   "source": [
    "cities_per_country['name'].count().sort_values(ascending=False).head(10)"
   ]
  },
  {
   "cell_type": "code",
   "execution_count": null,
   "id": "97780cd0-0f47-402a-bc27-b643efb9a3e6",
   "metadata": {},
   "outputs": [],
   "source": []
  }
 ],
 "metadata": {
  "kernelspec": {
   "display_name": "Python 3.10.0",
   "language": "python",
   "name": "python3.10.0"
  },
  "language_info": {
   "codemirror_mode": {
    "name": "ipython",
    "version": 3
   },
   "file_extension": ".py",
   "mimetype": "text/x-python",
   "name": "python",
   "nbconvert_exporter": "python",
   "pygments_lexer": "ipython3",
   "version": "3.10.0"
  }
 },
 "nbformat": 4,
 "nbformat_minor": 5
}
