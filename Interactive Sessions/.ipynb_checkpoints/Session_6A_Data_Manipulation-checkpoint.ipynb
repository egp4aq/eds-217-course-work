{
 "cells": [
  {
   "cell_type": "markdown",
   "id": "d071137f-cb2d-48c3-810a-20cdc98fe672",
   "metadata": {},
   "source": [
    "# Day 6: Session A - Data Manipulation: Sorting, grouping, joining, applying\n",
    "\n",
    "[Link to session webpage](https://eds-217-essential-python.github.io/course-materials/interactive-sessions/6a_grouping_joining_sorting.html)\n",
    "\n",
    "Date: 9-10-24"
   ]
  },
  {
   "cell_type": "code",
   "execution_count": null,
   "id": "5a9ccad1-18f8-47a8-a431-243e1c17256b",
   "metadata": {
    "tags": []
   },
   "outputs": [],
   "source": [
    "import pandas as pd\n",
    "import numpy as np\n",
    "import matplotlib.pyplot as plt\n",
    "import seaborn as sns"
   ]
  },
  {
   "cell_type": "code",
   "execution_count": null,
   "id": "9e34b691-127b-4ac3-9307-26065d2b572b",
   "metadata": {
    "tags": []
   },
   "outputs": [],
   "source": [
    "# Create some random data:\n",
    "\n",
    "np.random.seed(42) # Sets a seed for the random functions for reproducibility \n",
    "# the seed is the initial condition for the random number generator (we're doing seed(42) right now so we all have the same random numbers in class)\n",
    "\n",
    "dates = pd.date_range(start='2023-01-01',periods=100)\n",
    "\n",
    "data = {\n",
    "    'date': dates,\n",
    "    'site': np.random.choice(['Forest','Graddland','Wetland'],100),\n",
    "    'species': np.random.choice(['Oak', 'Maple','Pine','Birch'],100),\n",
    "    'count': np.random.randint(1, 20, 100),\n",
    "    'temperature': np.random.normal(15,5,100)\n",
    "}\n",
    "\n",
    "df = pd.DataFrame(data)\n",
    "df.head(10)"
   ]
  },
  {
   "cell_type": "markdown",
   "id": "511cf91b-a174-423c-ae0f-18d303aaba8a",
   "metadata": {},
   "source": [
    "## Sorting Data\n",
    "\n",
    "### Basic Sorting"
   ]
  },
  {
   "cell_type": "code",
   "execution_count": null,
   "id": "58ae0561-a5c0-49d4-8c15-ceeed9dbd2b1",
   "metadata": {
    "tags": []
   },
   "outputs": [],
   "source": [
    "df_sorted = df.sort_values('count', ascending=False) # default for sort_values is ascending=True\n",
    "df_sorted.head()"
   ]
  },
  {
   "cell_type": "markdown",
   "id": "e5e985cd-66b7-42cc-97ed-4099bea50fed",
   "metadata": {},
   "source": [
    "### Multi-column Sorting\n",
    "\n",
    "More advanced sorting, and we can change sort order between different rows"
   ]
  },
  {
   "cell_type": "code",
   "execution_count": null,
   "id": "230bbc4f-6c0e-4421-9b74-5e28d94ae2d4",
   "metadata": {
    "tags": []
   },
   "outputs": [],
   "source": [
    "df_multi_sorted = df.sort_values(['site','count','date'],ascending=[True, False,True])\n",
    "df_multi_sorted.head()\n",
    "\n",
    "# once you provide multiple columms for sorting, you have to be explicit about how you want to order the the values"
   ]
  },
  {
   "cell_type": "markdown",
   "id": "a9863dc1-8119-4fd0-b56e-0ecf2aa5e99d",
   "metadata": {},
   "source": [
    "## Grouping and Aggregating\n",
    "\n",
    "### Basic Groupby"
   ]
  },
  {
   "cell_type": "code",
   "execution_count": null,
   "id": "a284ff45-2ab9-43bd-adff-d1e17a6e4a22",
   "metadata": {
    "tags": []
   },
   "outputs": [],
   "source": [
    "# group by site, then take the sums of the count column\n",
    "sites = df.groupby('site')\n",
    "sites['count'].mean()\n",
    "\n",
    "# same as (and probably better to write like this):\n",
    "sites = df.groupby('site')['count'].sum()\n",
    "print(sites)"
   ]
  },
  {
   "cell_type": "markdown",
   "id": "7f813a6b-c256-4c8c-be61-6178ea86f295",
   "metadata": {},
   "source": [
    "### Multiple Aggregations\n",
    "\n",
    "We can provide a list of aggregation functions instead of just one function using `agg()` command"
   ]
  },
  {
   "cell_type": "code",
   "execution_count": null,
   "id": "52b9a1d7-33c4-4f99-81a1-c6afed8a8787",
   "metadata": {
    "tags": []
   },
   "outputs": [],
   "source": [
    "# For one column, let's get the results of multiple aggregations:\n",
    "# Pass the commands in as strings, which is a little weird\n",
    "site_stats = df.groupby('site')['count'].agg(['sum','min','max','median'])\n",
    "print(site_stats)"
   ]
  },
  {
   "cell_type": "code",
   "execution_count": null,
   "id": "8f758df3-b144-4082-8de4-18e99f3dbb38",
   "metadata": {
    "tags": []
   },
   "outputs": [],
   "source": [
    "# Provide column specific aggregations in a dictionary to agg()\n",
    "site_stats = df.groupby('site').agg({\n",
    "    'count': ['sum','min','max'],\n",
    "    'species': 'nunique',\n",
    "    'temperature': 'mean'\n",
    "})\n",
    "print(site_stats)"
   ]
  },
  {
   "cell_type": "markdown",
   "id": "1963fee3-e72e-4715-ab13-37f08fe23af8",
   "metadata": {
    "tags": []
   },
   "source": [
    "## Joining Data"
   ]
  },
  {
   "cell_type": "code",
   "execution_count": null,
   "id": "63776363-7238-4359-a1b1-05de3f5e3bc7",
   "metadata": {
    "tags": []
   },
   "outputs": [],
   "source": [
    "site_data = pd.DataFrame({\n",
    "    'site': ['Forest','Grassland','Wetland'],\n",
    "    'soil_pH': [6.5, 7.2, 6.8],\n",
    "    'annual_rainfall': [1200, 800, 1500]\n",
    "})"
   ]
  },
  {
   "cell_type": "code",
   "execution_count": null,
   "id": "ae9f22a0-4a26-4fd7-9d1d-6bb28f4c0e25",
   "metadata": {
    "tags": []
   },
   "outputs": [],
   "source": [
    "# Performing a join using pd.merge command:\n",
    "# Arguments:\n",
    "# 1. initial (main?) dataframe\n",
    "# 2. new dataframe (positional)\n",
    "# 3. on = 'site' <- column that you want to join on\n",
    "# 4. how = 'inner' <- how to do the join, inner is most common\n",
    "\n",
    "merged_df = pd.merge(df, site_data, on='site',how='inner')\n",
    "merged_df.head()"
   ]
  },
  {
   "cell_type": "markdown",
   "id": "fd64fd56-5cda-4c85-bd14-56b8f6e11cbc",
   "metadata": {},
   "source": [
    "## Working with Dates (and date indicies)"
   ]
  },
  {
   "cell_type": "code",
   "execution_count": null,
   "id": "7c104e3c-35ea-45a3-b21f-74b6bcd867bf",
   "metadata": {
    "tags": []
   },
   "outputs": [],
   "source": [
    "# For timeseries data, it's often nice to make the row index the timestamp!\n",
    "# Use the set_index() method to set the index to a specific column\n",
    "new_df = merged_df.set_index('date')\n",
    "new_df.head()"
   ]
  },
  {
   "cell_type": "markdown",
   "id": "712b0cf8-cd64-41ef-bdd5-ec5344cc9f44",
   "metadata": {},
   "source": [
    "### Using `inplace` keyword argument in pandas.\n",
    "\n",
    "If you are calling a method that usually generates a new dataframe (like `set_index()`, `sort_values()`),\n",
    "and you want the operation to act on the dataframe without making a copy...\n",
    "\n",
    "Then you can use the `inplace` keyword to force this behavior."
   ]
  },
  {
   "cell_type": "code",
   "execution_count": null,
   "id": "c75b4a26-5df1-47f1-aac1-19037f8db456",
   "metadata": {
    "tags": []
   },
   "outputs": [],
   "source": [
    "# Make a copy so we don't mess up our dataframe while playing around\n",
    "df_copy = merged_df.copy()\n",
    "print(\"Before:\",df_copy.head())\n",
    "\n",
    "# without inplace keyword argument, we get a new dataframe:\n",
    "df_new = df_copy.set_index('date')\n",
    "print(\"Without inplace:\",df_new.head())\n",
    "\n",
    "# with inplace keyword argument --> this will save space so our variable area is not bloated\n",
    "df_copy.set_index('date',inplace=True)\n",
    "print(\"With inplace:\",df_copy.head())"
   ]
  },
  {
   "cell_type": "markdown",
   "id": "c90c34d4-f58c-4620-9a9d-b07974ad2b3e",
   "metadata": {},
   "source": [
    "### "
   ]
  },
  {
   "cell_type": "code",
   "execution_count": null,
   "id": "be7043ee-92df-440a-8f4e-e7f79fe41664",
   "metadata": {
    "tags": []
   },
   "outputs": [],
   "source": [
    "def fun(value):\n",
    "    return value"
   ]
  },
  {
   "cell_type": "code",
   "execution_count": null,
   "id": "206527cf-261b-4b3b-b897-cf98a4a082cb",
   "metadata": {
    "tags": []
   },
   "outputs": [],
   "source": [
    "merged_df['fun'].index.to_series().apply(fun)\n",
    "print(merged_df.head())"
   ]
  },
  {
   "cell_type": "code",
   "execution_count": null,
   "id": "a5ac8afb-f8e2-4d34-9e3e-8f4bb2f1db64",
   "metadata": {},
   "outputs": [],
   "source": []
  }
 ],
 "metadata": {
  "kernelspec": {
   "display_name": "Python 3.10.0",
   "language": "python",
   "name": "python3.10.0"
  },
  "language_info": {
   "codemirror_mode": {
    "name": "ipython",
    "version": 3
   },
   "file_extension": ".py",
   "mimetype": "text/x-python",
   "name": "python",
   "nbconvert_exporter": "python",
   "pygments_lexer": "ipython3",
   "version": "3.10.0"
  }
 },
 "nbformat": 4,
 "nbformat_minor": 5
}
