{
 "cells": [
  {
   "cell_type": "markdown",
   "id": "71b0ca69-3fc1-497a-81a0-f9541ab357c0",
   "metadata": {},
   "source": [
    "# Day 7: Session A - Plotting\n",
    "\n",
    "[Link to session webpage](https://eds-217-essential-python.github.io/course-materials/interactive-sessions/7a_visualizations_1.html)\n",
    "\n",
    "Date: 9-11-24"
   ]
  },
  {
   "cell_type": "code",
   "execution_count": null,
   "id": "cce75847-5651-44a5-b718-16db35dc593e",
   "metadata": {
    "tags": []
   },
   "outputs": [],
   "source": [
    "# Import matplotlib using this code:\n",
    "import matplotlib.pyplot as plt\n",
    "import numpy as np\n",
    "import pandas as pd"
   ]
  },
  {
   "cell_type": "markdown",
   "id": "a35aab15-d4fe-40cd-b70a-1797b89f1d9a",
   "metadata": {},
   "source": [
    "## Anatomy of a `matplotlib` plot\n",
    "\n",
    "### Three main objects\n",
    "\n",
    "- `Figure`: Wall of an art gallery\n",
    "- `Axes`: A place to put data (where, in a figure, we can plot data)\n",
    "- `Plot`: A command or method that renders data into some axes\n",
    "\n",
    "Generally, `matplotlib` (and all other libraries) assume a plot command is going into the most recently created figure. If there is not a figure already, these commands will make one, including axes, and then render the results of the plotting command into these objects. "
   ]
  },
  {
   "cell_type": "code",
   "execution_count": null,
   "id": "66f619a3-96d4-446c-acc4-3d37317869c2",
   "metadata": {
    "tags": []
   },
   "outputs": [],
   "source": [
    "# Let's make some data for plotting (sin and cos):\n",
    "x = np.linspace(-5,5,300)\n",
    "\n",
    "# Let's make a sin wave:\n",
    "ysin = np.sin(x)\n",
    "\n",
    "# Let's do cosine too:\n",
    "ycos = np.cos(x)"
   ]
  },
  {
   "cell_type": "code",
   "execution_count": null,
   "id": "347a8f40-7563-44ed-a802-61814d0e8f6e",
   "metadata": {
    "tags": []
   },
   "outputs": [],
   "source": [
    "# Plot sine wave\n",
    "plt.plot(x,ysin)\n",
    "\n",
    "# Plot cosine wave\n",
    "plt.plot(x,ycos)\n",
    "\n",
    "# both of these show up in the same figure because we gave the same plot command"
   ]
  },
  {
   "cell_type": "code",
   "execution_count": null,
   "id": "cd0d8b02-561b-4eb2-a0cd-664eabb7d9eb",
   "metadata": {
    "tags": []
   },
   "outputs": [],
   "source": [
    "# If we create a figure, we can separate plot commands:\n",
    "# Plot sine wave\n",
    "fig1 = plt.figure()\n",
    "plt.plot(x,ysin) \n",
    "# here, the library infers that because we just created fig1, we want to put this plot in that figure\n",
    "\n",
    "# Plot cosine wave\n",
    "fig2 = plt.figure()\n",
    "plt.plot(x,ycos)\n",
    "# here, the library infers that because we just created fig2, we want to put this plot in that figure"
   ]
  },
  {
   "cell_type": "code",
   "execution_count": null,
   "id": "1d1cf432-c2c5-4e3c-a557-ba99480c8994",
   "metadata": {
    "tags": []
   },
   "outputs": [],
   "source": [
    "# We use plt.scatter to plot points instead of lines\n",
    "\n",
    "# Generate new x and y with fewer points for legibility\n",
    "# np.linspace(lower, upper, n): \n",
    "#     Creates n points between lower and upper, including both bounds.\n",
    "\n",
    "xscat = np.linspace(-5,5,25)\n",
    "yscat = np.sin(xscat)\n",
    "\n",
    "# Plot sine function as scatter plot\n",
    "plt.scatter(xscat,yscat)"
   ]
  },
  {
   "cell_type": "markdown",
   "id": "2f4ea17f-5486-4b8b-b673-5594bbbbe515",
   "metadata": {},
   "source": [
    "## `plt.plot()` Keyword arguments\n",
    "\n",
    "### Specifying Colors\n",
    "\n",
    "#### Using html string names"
   ]
  },
  {
   "cell_type": "code",
   "execution_count": null,
   "id": "df7c3a6f-6ce2-4e6c-9a06-5213fb4fc00e",
   "metadata": {
    "tags": []
   },
   "outputs": [],
   "source": [
    "# Specifying color with a string:\n",
    "y = ysin\n",
    "plt.plot(x, y, color='cornflowerblue')"
   ]
  },
  {
   "cell_type": "markdown",
   "id": "bc04d8dc-0022-4f48-b967-625f47bc2d0f",
   "metadata": {},
   "source": [
    "#### Using RGB(A) tuples to assign colors"
   ]
  },
  {
   "cell_type": "code",
   "execution_count": null,
   "id": "17353d83-8ca9-4738-8aa0-f6fd68113f53",
   "metadata": {
    "tags": []
   },
   "outputs": [],
   "source": [
    "# Specifying color with an RGB tuple:\n",
    "plt.plot(x, y, color=(1.0,0,1.0))\n",
    "# this means full intensity of red, no green, and full intensity of blue so we get purple"
   ]
  },
  {
   "cell_type": "code",
   "execution_count": null,
   "id": "e2199912-f1c8-49f1-bbf0-be81cc4ab3f0",
   "metadata": {
    "tags": []
   },
   "outputs": [],
   "source": [
    "# we can add a 4th value to the tuple to specify transparcency (alpha)\n",
    "plt.plot(x, y, color=(0,0,1,0.5))\n",
    "\n",
    "# keyword alpha argument can also be used and tramples any other transparency in the tuple"
   ]
  },
  {
   "cell_type": "code",
   "execution_count": null,
   "id": "d5e54d94-dfc9-4c33-a1b5-15ee96a0370f",
   "metadata": {
    "tags": []
   },
   "outputs": [],
   "source": [
    "# Specifying greyscale with a intensity value [0-1]:\n",
    "plt.plot(x, y, color='0.25')\n",
    "# one is white, zero is black"
   ]
  },
  {
   "cell_type": "markdown",
   "id": "5008d654-45f7-4d18-b6f7-86a887fa38ae",
   "metadata": {},
   "source": [
    "#### Hex codes for color\n",
    "\n",
    "[All hex colors](https://www.color-hex.com/color-names.html)"
   ]
  },
  {
   "cell_type": "code",
   "execution_count": null,
   "id": "3eef773e-ea1e-4556-8d44-ffbc507ef1e8",
   "metadata": {
    "tags": []
   },
   "outputs": [],
   "source": [
    "# Specifying color with a hex code:\n",
    "plt.plot(x, y, color='#C6E2FF')"
   ]
  },
  {
   "cell_type": "markdown",
   "id": "3e1ae87e-3b00-43a9-8a43-7ef3991fe4da",
   "metadata": {},
   "source": [
    "### Linestyles"
   ]
  },
  {
   "cell_type": "code",
   "execution_count": null,
   "id": "07195d64-9cf5-48f5-8835-a370e090900e",
   "metadata": {
    "tags": []
   },
   "outputs": [],
   "source": [
    "plt.plot(x, y, linestyle='dashed')\n",
    "# plt.plot(x, y, linestyle='--') is the same thing, and is also more common than writing out 'dashed'"
   ]
  },
  {
   "cell_type": "code",
   "execution_count": null,
   "id": "fc04ea4a-4806-4441-837e-2a65dfa42335",
   "metadata": {
    "tags": []
   },
   "outputs": [],
   "source": [
    "# Initialize empty figure\n",
    "fig1 = plt.figure()\n",
    "# Plot sine wave with different colors + linestyles\n",
    "plt.plot(x, np.sin(x - 0), color='darkblue', linestyle='-')\n",
    "plt.plot(x, np.sin(x - 1), color='m', linestyle='dashed')\n",
    "plt.plot(x, np.sin(x - 2), color=(0.0,0.8,0.81), linestyle=':') \n",
    "plt.plot(x, np.sin(x - 3), color='0.65', linestyle='solid')\n",
    "plt.plot(x, np.sin(x - 4), color='#B8D62E', linestyle='-.')"
   ]
  },
  {
   "cell_type": "markdown",
   "id": "e3e72f89-3eab-4302-a058-5007abf532cc",
   "metadata": {},
   "source": [
    "### Marker styles"
   ]
  },
  {
   "cell_type": "code",
   "execution_count": null,
   "id": "30cb803d-d034-4d50-b49f-dd759b633a5d",
   "metadata": {
    "tags": []
   },
   "outputs": [],
   "source": [
    "plt.scatter(x, y, marker='+')"
   ]
  },
  {
   "cell_type": "code",
   "execution_count": null,
   "id": "9eb52f8c-83a0-43ba-a681-84c8de86c5a5",
   "metadata": {
    "tags": []
   },
   "outputs": [],
   "source": [
    "# Initialize empty figure\n",
    "fig1 = plt.figure()\n",
    "# Plot sine wave as scatter plot with different colors + markers\n",
    "plt.scatter(xscat, yscat-0, color='darkblue', marker='o')\n",
    "plt.scatter(xscat, yscat-1, color='m', marker='.')\n",
    "plt.scatter(xscat, yscat-2, color=(0.0,0.8,0.81), marker='+')\n",
    "plt.scatter(xscat, yscat-3, color='0.65', marker='*')\n",
    "plt.scatter(xscat, yscat-4, color='#B8D62E', marker='s')"
   ]
  },
  {
   "cell_type": "code",
   "execution_count": null,
   "id": "bc9ae44f-407b-4dae-87c4-bb46fdbca493",
   "metadata": {
    "tags": []
   },
   "outputs": [],
   "source": [
    "# Combining lines and markers\n",
    "\n",
    "# Initialize empty figure\n",
    "fig1 = plt.figure()\n",
    "# Plot sine wave with different colors + markers\n",
    "plt.plot(xscat, np.sin(xscat - 0), color='darkblue', marker='o')\n",
    "plt.plot(xscat, np.sin(xscat - 1), color='m', marker='.')\n",
    "plt.plot(xscat, np.sin(xscat - 2), color=(0.0,0.8,0.81), marker='+')\n",
    "plt.plot(xscat, np.sin(xscat - 3), color='0.65', marker='*')\n",
    "plt.plot(xscat, np.sin(xscat - 4), color='#B8D62E', marker='s')"
   ]
  },
  {
   "cell_type": "markdown",
   "id": "01692c16-a837-4543-9485-a3cdf3351f68",
   "metadata": {},
   "source": [
    "### Explicit definitions vs. shortcuts"
   ]
  },
  {
   "cell_type": "code",
   "execution_count": null,
   "id": "9c381205-7229-47eb-8f22-da058233bf99",
   "metadata": {
    "tags": []
   },
   "outputs": [],
   "source": [
    "# Plot a dashed red line\n",
    "plt.plot(x, y, 'r--')"
   ]
  },
  {
   "cell_type": "code",
   "execution_count": null,
   "id": "768d1233-9555-4cfe-95f2-74470664a413",
   "metadata": {
    "tags": []
   },
   "outputs": [],
   "source": [
    "# You can use these, but it's better to be more explicit\n",
    "\n",
    "# Initialize empty figure\n",
    "fig1 = plt.figure()\n",
    "# Plot sine wave with different colors + markers\n",
    "plt.plot(xscat, yscat-0, 'b-o')    # Solid blue line with circle markers\n",
    "plt.plot(xscat, yscat-1, 'm--*')   # Dashed magenta line with star markers\n",
    "plt.plot(xscat, yscat-2, 'c+')     # Cyan plus markers\n",
    "plt.plot(xscat, yscat-3, 'k')      # Solid black line\n",
    "plt.plot(xscat, yscat-4, 'y-s')    # Solid yellow line with square markers"
   ]
  },
  {
   "cell_type": "markdown",
   "id": "3d80c1d6-57bd-4060-8bb3-75d2f5557d57",
   "metadata": {},
   "source": [
    "## Axes Properties (title, limits, labels, ticks, legends...)\n",
    "\n",
    "Generally, we can use plt. methods to change axes properties. Most of these methods are \"self-explanatory.\""
   ]
  },
  {
   "cell_type": "markdown",
   "id": "4096215b-e661-4312-9e00-bc4f7e637faa",
   "metadata": {
    "tags": []
   },
   "source": [
    "### Control the range of values on the axes: (using xlim and ylim)"
   ]
  },
  {
   "cell_type": "code",
   "execution_count": null,
   "id": "e9662459-6890-47b7-b936-63adfd7d106a",
   "metadata": {
    "tags": []
   },
   "outputs": [],
   "source": [
    "# Initialize empty figure\n",
    "fig1 = plt.figure()\n",
    "# Plot sine wave \n",
    "plt.plot(x, ysin, color='darkblue')\n",
    "\n",
    "# Set axis limits\n",
    "plt.xlim(-5,5)\n",
    "plt.ylim(-2,2)"
   ]
  },
  {
   "cell_type": "markdown",
   "id": "fc91c241-43d7-4a6c-aeb7-1d760e7f3c43",
   "metadata": {},
   "source": [
    "### Ticks and Tick Labels: (using xticks and yticks)"
   ]
  },
  {
   "cell_type": "code",
   "execution_count": null,
   "id": "3e6206d3-80f6-459c-93ec-30a84a427602",
   "metadata": {
    "tags": []
   },
   "outputs": [],
   "source": [
    "# Initialize empty figure\n",
    "fig1 = plt.figure()\n",
    "# Plot sine wave \n",
    "plt.plot(x, ysin, color='darkblue')\n",
    "\n",
    "# Set x-axis limits\n",
    "plt.xlim(-5,5)\n",
    "\n",
    "# Set axis ticks\n",
    "# First argument is a list of where to put ticks\n",
    "# Second argument is a list of what to put there\n",
    "plt.xticks([-4,-3,-2,-1,0,1,2,3,4],['-4','','-2','','0','','2','','4'])\n",
    "plt.yticks([-1,-0.5,0,0.5,1])"
   ]
  },
  {
   "cell_type": "markdown",
   "id": "7265a374-0340-4c94-9823-9158eda13b0b",
   "metadata": {},
   "source": [
    "### We need to always label our axes! (using xlabel and ylabel)"
   ]
  },
  {
   "cell_type": "code",
   "execution_count": null,
   "id": "80836cdf-3440-4e7f-81ef-bbe2ec7c9570",
   "metadata": {
    "tags": []
   },
   "outputs": [],
   "source": [
    "# Initialize empty figure\n",
    "fig1 = plt.figure()\n",
    "# Plot sine wave \n",
    "plt.plot(x, ysin, color='darkblue')\n",
    "\n",
    "# Set x-axis limits\n",
    "plt.xlim(-5,5)\n",
    "\n",
    "# Set axis ticks\n",
    "plt.xticks([-4,-3,-2,-1,0,1,2,3,4],['-4','','-2','','0','','2','','4'])\n",
    "\n",
    "# Set axis labels\n",
    "plt.xlabel('x')\n",
    "plt.ylabel('sin(x)')"
   ]
  },
  {
   "cell_type": "markdown",
   "id": "3c1458a1-c07f-4991-a1a3-de786ac613c2",
   "metadata": {},
   "source": [
    "### Legend! and title"
   ]
  },
  {
   "cell_type": "code",
   "execution_count": null,
   "id": "1dacb03f-fadb-4fd5-ac99-7760ce69dc5c",
   "metadata": {
    "tags": []
   },
   "outputs": [],
   "source": [
    "# Initialize empty figure\n",
    "fig1 = plt.figure()\n",
    "# Plot sine wave \n",
    "plt.plot(x, ysin, color='darkblue')\n",
    "plt.plot(x, ycos, color='#B8D62E')\n",
    "\n",
    "# Set x-axis limits\n",
    "plt.xlim(-5,5)\n",
    "\n",
    "# Set axis ticks\n",
    "plt.xticks([-4,-3,-2,-1,0,1,2,3,4],['-4','','-2','','0','','2','','4'])\n",
    "plt.yticks([-1,-0.5,0,0.5,1])\n",
    "\n",
    "# Set axis labels\n",
    "plt.xlabel('x')\n",
    "plt.ylabel('y')\n",
    "\n",
    "# Set title\n",
    "plt.title('Sinusoidal functions')\n",
    "\n",
    "# Legend\n",
    "plt.legend(labels=['sin(x)','cos(x)'])"
   ]
  },
  {
   "cell_type": "code",
   "execution_count": null,
   "id": "b45b7f20-b894-438c-98e3-c6cbe1a8041b",
   "metadata": {
    "tags": []
   },
   "outputs": [],
   "source": [
    "# could also assign the labels in the plot command and then call plt.legend()\n",
    "\n",
    "# Initialize empty figure\n",
    "fig1 = plt.figure()\n",
    "# Plot sine wave \n",
    "plt.plot(x, ysin, label='sin(x)', color='darkblue')\n",
    "plt.plot(x, ycos, label='cos(x)', color='#B8D62E')\n",
    "\n",
    "# Set x-axis limits\n",
    "plt.xlim(-5,5)\n",
    "\n",
    "# Set axis ticks\n",
    "plt.xticks([-4,-3,-2,-1,0,1,2,3,4],['-4','','-2','','0','','2','','4'])\n",
    "plt.yticks([-1,-0.5,0,0.5,1])\n",
    "\n",
    "# Set axis labels\n",
    "plt.xlabel(r'$x$')\n",
    "plt.ylabel(r'$y$')\n",
    "\n",
    "# Set title\n",
    "plt.title('Sinusoidal functions')\n",
    "\n",
    "# Legend\n",
    "plt.legend()"
   ]
  },
  {
   "cell_type": "markdown",
   "id": "b06f9984-e14e-4b1c-a7bf-c79ae7d1cbca",
   "metadata": {},
   "source": [
    "## Adding subplots (using add_subplot)"
   ]
  },
  {
   "cell_type": "code",
   "execution_count": null,
   "id": "825c25d2-1ff2-4f12-b17d-97e03ac56bf6",
   "metadata": {
    "tags": []
   },
   "outputs": [],
   "source": [
    "# Initialize empty figure\n",
    "fig = plt.figure()\n",
    "\n",
    "# Add four axes and save them as objects so we can use them to plot later\n",
    "ax1 = fig.add_subplot(2,2,1) # means 2 rows, 2 columns, 1st plot\n",
    "ax2 = fig.add_subplot(2,2,2)\n",
    "ax3 = fig.add_subplot(2,2,3)\n",
    "ax4 = fig.add_subplot(2,2,4)\n",
    "\n",
    "# Plot data\n",
    "# Plot sine wave with different colors on different axes\n",
    "ax1.plot(x, np.sin(x - 0), color='darkblue')\n",
    "ax2.plot(x, np.sin(x - 1), color='m')\n",
    "ax3.plot(x, np.sin(x - 2), color=(0.0,0.8,0.81))\n",
    "ax4.plot(x, np.sin(x - 4), color='#B8D62E')"
   ]
  },
  {
   "cell_type": "markdown",
   "id": "df8d0231-005d-4679-8f9a-03587e2b05e4",
   "metadata": {},
   "source": [
    "### Everything all together! Final, amazing, wholistic plot!"
   ]
  },
  {
   "cell_type": "code",
   "execution_count": null,
   "id": "3a8ffe40-1c2b-486d-8e07-3c3e3bc12cc2",
   "metadata": {
    "tags": []
   },
   "outputs": [],
   "source": [
    "# Initialize empty figure\n",
    "fig = plt.figure()\n",
    "# Add four axes\n",
    "ax1 = fig.add_subplot(2,2,1)\n",
    "ax2 = fig.add_subplot(2,2,2)\n",
    "ax3 = fig.add_subplot(2,2,3)\n",
    "ax4 = fig.add_subplot(2,2,4)\n",
    "\n",
    "# Plot data\n",
    "# Plot sine wave with different colors on different axes\n",
    "ax1.plot(x, np.sin(x - 0), color='darkblue')\n",
    "ax2.plot(x, np.sin(x - 1), color='m')\n",
    "ax3.plot(x, np.sin(x - 2), color=(0.0,0.8,0.81))\n",
    "ax4.plot(x, np.sin(x - 4), color='#B8D62E')\n",
    "\n",
    "# Set axes limits, labels, + ticks\n",
    "for i,ax in enumerate([ax1,ax2,ax3,ax4]):\n",
    "    # i is the list index, but subplots count from 1.\n",
    "    # so make a new variable to keep track of subplot number:\n",
    "    subplot_number =  i + 1 \n",
    "    # Set x limits \n",
    "    ax.set_xlim(-5,5)\n",
    "    # Set title\n",
    "    ax.set_title(f'$\\sin{{(x - {i})}}$')\n",
    "    # Only label x ticks and x-axis on bottom row\n",
    "    if subplot_number < 3:\n",
    "        ax.set_xticklabels([])\n",
    "    else:\n",
    "        ax.set_xlabel('x')\n",
    "    # Only label y ticks and y-axis on left column\n",
    "    if subplot_number == 1 or subplot_number == 3:\n",
    "        ax.set_ylabel('y')\n",
    "    else:\n",
    "        ax.set_yticklabels([])\n",
    "\n",
    "plt.tight_layout()"
   ]
  },
  {
   "cell_type": "code",
   "execution_count": null,
   "id": "3b8307cb-87d2-4bc4-bec2-a3e0ea63e558",
   "metadata": {
    "tags": []
   },
   "outputs": [],
   "source": []
  }
 ],
 "metadata": {
  "kernelspec": {
   "display_name": "Python 3.10.0",
   "language": "python",
   "name": "python3.10.0"
  },
  "language_info": {
   "codemirror_mode": {
    "name": "ipython",
    "version": 3
   },
   "file_extension": ".py",
   "mimetype": "text/x-python",
   "name": "python",
   "nbconvert_exporter": "python",
   "pygments_lexer": "ipython3",
   "version": "3.10.0"
  }
 },
 "nbformat": 4,
 "nbformat_minor": 5
}
