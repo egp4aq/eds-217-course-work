{
 "cells": [
  {
   "cell_type": "markdown",
   "id": "649f9564-dbf8-4cdb-8bf2-c02705709d45",
   "metadata": {},
   "source": [
    "# Day 2: Session B - Dictionaries\n",
    "\n",
    "[Link to session webpage](https://eds-217-essential-python.github.io/course-materials/interactive-sessions/2b_dictionaries.html)\n",
    "\n",
    "Date: 09/04/2024"
   ]
  },
  {
   "cell_type": "code",
   "execution_count": null,
   "id": "537d2b0e-d45b-4297-83fc-a79c83dc17cf",
   "metadata": {
    "tags": []
   },
   "outputs": [],
   "source": [
    "# Define a dictionary with species data containing latin names and corresponding common names.\n",
    "species_dict = {\n",
    "    \"P ochraceus\": \"Ochre sea star\",\n",
    "    \"M californianus\": \"California mussel\",\n",
    "    \"H rufescens\": \"Red abalone\"\n",
    "}"
   ]
  },
  {
   "cell_type": "code",
   "execution_count": null,
   "id": "6c617a1f-c268-4122-b4a9-6ac8b6ec6a4a",
   "metadata": {
    "tags": []
   },
   "outputs": [],
   "source": [
    "species_dict[\"P ochraceus\"]\n",
    "# returns value associated with that key"
   ]
  },
  {
   "cell_type": "code",
   "execution_count": null,
   "id": "a11fdeff-444f-40b1-a59e-8418aac849ab",
   "metadata": {
    "tags": []
   },
   "outputs": [],
   "source": [
    "# Adding a new entry for Leather star\n",
    "species_dict[\"D imbricata\"] = \"Leather star\""
   ]
  },
  {
   "cell_type": "code",
   "execution_count": null,
   "id": "4131cbed-f9d2-48e0-afb1-d36a18a07a26",
   "metadata": {
    "tags": []
   },
   "outputs": [],
   "source": [
    "print(species_dict)"
   ]
  },
  {
   "cell_type": "code",
   "execution_count": null,
   "id": "00011be4-8665-4f40-b088-78c44980c12a",
   "metadata": {
    "tags": []
   },
   "outputs": [],
   "source": [
    "species_dict[\"D imbricata\"] = \"Leather Star\"\n",
    "# keys have to be unique - there can't be two items that have the same key"
   ]
  },
  {
   "cell_type": "code",
   "execution_count": null,
   "id": "64b105c6-3636-4a7a-98f3-dd585d72d1d3",
   "metadata": {
    "tags": []
   },
   "outputs": [],
   "source": [
    "#dir(species_dict)"
   ]
  },
  {
   "cell_type": "code",
   "execution_count": null,
   "id": "a2c3b3c0-f81c-4116-a885-28b14cb70363",
   "metadata": {
    "tags": []
   },
   "outputs": [],
   "source": [
    "# Make a list of all the keys in a dictionary:\n",
    "list(species_dict.keys())"
   ]
  },
  {
   "cell_type": "code",
   "execution_count": null,
   "id": "c70982f3-402b-4525-8bca-a95f9ee4488c",
   "metadata": {
    "tags": []
   },
   "outputs": [],
   "source": [
    "# Make a list of all the values in a dictionary:\n",
    "list(species_dict.values())"
   ]
  },
  {
   "cell_type": "code",
   "execution_count": null,
   "id": "6fae8531-63c6-484e-aace-7c4171a1ccb0",
   "metadata": {
    "tags": []
   },
   "outputs": [],
   "source": [
    "# Make a list of tuples of key, value pairs: (tuples are immutable lists of things)\n",
    "list(species_dict.items())"
   ]
  },
  {
   "cell_type": "markdown",
   "id": "a64941f5-0126-4c8a-ae8f-05771349560d",
   "metadata": {},
   "source": [
    "## Looping through a dictionary: \n",
    "\n",
    "Use a `for` loop to loop through a dictionary\n",
    "\n",
    "```python\n",
    "    for item in collection:\n",
    "        print(item)\n",
    "```"
   ]
  },
  {
   "cell_type": "code",
   "execution_count": null,
   "id": "8439add9-9470-487a-8ea2-bc055136308a",
   "metadata": {
    "tags": []
   },
   "outputs": [],
   "source": [
    "# Print each key in dictionary:\n",
    "for key in list(species_dict.keys()):\n",
    "    print(key)"
   ]
  },
  {
   "cell_type": "code",
   "execution_count": null,
   "id": "96e2d76e-35e7-436c-9e11-1747415cf84a",
   "metadata": {
    "tags": []
   },
   "outputs": [],
   "source": [
    "# Print each value in dictionary:\n",
    "for value in list(species_dict.values()):\n",
    "    print(value)"
   ]
  },
  {
   "cell_type": "code",
   "execution_count": null,
   "id": "e25be3e4-c2c2-4e28-98b1-3ae584644cfd",
   "metadata": {
    "tags": []
   },
   "outputs": [],
   "source": [
    "# Print each key, value pair in dictionary:\n",
    "for item in list(species_dict.items()):\n",
    "    key, value = item\n",
    "    print(f\"The common name for {key} is {value}\")\n",
    "    \n",
    "# Same thing as\n",
    "for key, value in list(species_dict.items()):\n",
    "    print(f\"The common name for {key} is {value}\")"
   ]
  },
  {
   "cell_type": "code",
   "execution_count": null,
   "id": "1ec43675-7e12-4f7e-8b5e-bb29bfcb594b",
   "metadata": {
    "tags": []
   },
   "outputs": [],
   "source": [
    "# Accessing a key that doesn't exist raises a key error exception\n",
    "species_dict[\"E dofleini\"]"
   ]
  },
  {
   "cell_type": "code",
   "execution_count": null,
   "id": "b6847151-21f7-453c-a466-f5c3d99006da",
   "metadata": {
    "tags": []
   },
   "outputs": [],
   "source": [
    "# Use the .get() method to allow lookups to fail silently \n",
    "result = species_dict.get(\"E dofleini\")\n",
    "print(result)"
   ]
  },
  {
   "cell_type": "code",
   "execution_count": null,
   "id": "1aa32fa5-27e3-41bd-9f28-d8c94e0907f9",
   "metadata": {
    "tags": []
   },
   "outputs": [],
   "source": [
    "# You can also set a default response for missing keys:\n",
    "result = species_dict.get(\"P ochraceus\", \"Species not found\")\n",
    "print(result)\n",
    "\n",
    "result = species_dict.get(\"E dofleini\", \"Species not found\")\n",
    "print(result)"
   ]
  },
  {
   "cell_type": "code",
   "execution_count": null,
   "id": "97fbd960-b847-4428-a308-aa94e0be1ce8",
   "metadata": {},
   "outputs": [],
   "source": []
  }
 ],
 "metadata": {
  "kernelspec": {
   "display_name": "Python 3.10.0",
   "language": "python",
   "name": "python3.10.0"
  },
  "language_info": {
   "codemirror_mode": {
    "name": "ipython",
    "version": 3
   },
   "file_extension": ".py",
   "mimetype": "text/x-python",
   "name": "python",
   "nbconvert_exporter": "python",
   "pygments_lexer": "ipython3",
   "version": "3.10.0"
  }
 },
 "nbformat": 4,
 "nbformat_minor": 5
}
