{
 "cells": [
  {
   "cell_type": "markdown",
   "id": "e4eb37eb-5945-48ab-ac41-af53e02bf188",
   "metadata": {},
   "source": [
    "# Day 3: Session A - [Control Flows]\n",
    "\n",
    "[Session 3A](https://eds-217-essential-python.github.io/course-materials/live-coding/3a_control_flows.html)\n",
    "\n",
    "Date: [9/5/24]"
   ]
  },
  {
   "cell_type": "markdown",
   "id": "9c1fee23-c448-4ae5-918b-59f318a7daf0",
   "metadata": {},
   "source": [
    "## Introduction to Control Flows\n",
    "\n",
    "Main types are conditionals (change based on a value) or loops (repeat based on a value)."
   ]
  },
  {
   "cell_type": "markdown",
   "id": "85dec7bc-74f8-420c-9a0e-d1e437cff0c6",
   "metadata": {},
   "source": [
    "### Conditionals"
   ]
  },
  {
   "cell_type": "markdown",
   "id": "cd71700b-de89-4028-a8f7-3f776c6aef7e",
   "metadata": {},
   "source": [
    "#### Basic If Statement\n",
    "\n",
    "```python\n",
    "# must start with a `:`\n",
    "if x: \n",
    "    # must be indented\n",
    "    print(x)\n",
    "    \n",
    "print(\"finished\")\n",
    "```"
   ]
  },
  {
   "cell_type": "code",
   "execution_count": null,
   "id": "e9e5dab2-18eb-4282-8e66-a8fa015829fc",
   "metadata": {
    "tags": []
   },
   "outputs": [],
   "source": [
    "number = 5\n",
    "if number > 0:\n",
    "    print(\"Positive number\")"
   ]
  },
  {
   "cell_type": "code",
   "execution_count": null,
   "id": "34eb1b48-1309-4609-bc84-866926e05355",
   "metadata": {
    "tags": []
   },
   "outputs": [],
   "source": [
    "# The if statement uses Boolean `True` or `False` to determine code execution\n",
    "if True:\n",
    "    print(\"Positive number\")\n",
    "    \n",
    "if False:\n",
    "    print(\"Another positive number\")"
   ]
  },
  {
   "cell_type": "markdown",
   "id": "706354b8-7049-480a-856b-32b136c8694a",
   "metadata": {},
   "source": [
    "#### Adding Else"
   ]
  },
  {
   "cell_type": "code",
   "execution_count": null,
   "id": "420e253a-9ace-403a-802f-a56eb2dc8f2f",
   "metadata": {
    "tags": []
   },
   "outputs": [],
   "source": [
    "number = 4\n",
    "if number > 0:\n",
    "    print(\"Positive number\")\n",
    "else:\n",
    "    print(\"Not a positive number\")"
   ]
  },
  {
   "cell_type": "markdown",
   "id": "a367e147-8d99-4e59-ae0a-15140eaced13",
   "metadata": {},
   "source": [
    "#### Using Elif"
   ]
  },
  {
   "cell_type": "code",
   "execution_count": null,
   "id": "05183ebc-b7d5-4b39-b234-0cfdfa3baad0",
   "metadata": {
    "tags": []
   },
   "outputs": [],
   "source": [
    "number = 3\n",
    "if number > 0:\n",
    "    print(\"Positive number\")\n",
    "elif number < 0:\n",
    "    print(\"Negative number\")\n",
    "else:\n",
    "    print(\"Zero\")"
   ]
  },
  {
   "cell_type": "markdown",
   "id": "027085e5-85d9-45be-b6df-b594aaa68776",
   "metadata": {},
   "source": [
    "Use `pass` to avoid code block execution (e.g. as a placeholder)"
   ]
  },
  {
   "cell_type": "code",
   "execution_count": null,
   "id": "26623ea9-58db-4e68-bbc0-de8ecc60b047",
   "metadata": {
    "tags": []
   },
   "outputs": [],
   "source": [
    "grade = 90\n",
    "grade > 60 or grade < 90"
   ]
  },
  {
   "cell_type": "code",
   "execution_count": null,
   "id": "a2ee57d8-979d-4bfd-b85e-31a35a9b1934",
   "metadata": {
    "tags": []
   },
   "outputs": [],
   "source": [
    "grade = 75\n",
    "if grade >= 90:\n",
    "    print(\"You're doing great\")\n",
    "elif grade < 90 & grade >= 80:\n",
    "    print(\"Okay!\")\n",
    "elif grade < 80 & grade >= 70:\n",
    "    print(\"Sure, I guess\")\n",
    "else:\n",
    "    print(\"Uh-oh...\")"
   ]
  },
  {
   "cell_type": "markdown",
   "id": "df53fd6e-f1a9-4598-ad81-9122e85ee4da",
   "metadata": {},
   "source": [
    "### Loops\n",
    "\n",
    "Loops allow for similar things to happen repeatedly to groups of things."
   ]
  },
  {
   "cell_type": "markdown",
   "id": "d41c703f-79be-48f3-a612-d12f271dcda1",
   "metadata": {},
   "source": [
    "#### For Loops"
   ]
  },
  {
   "cell_type": "code",
   "execution_count": null,
   "id": "cf60404e-8a16-4fc5-a48f-2e2ba1e50d38",
   "metadata": {
    "tags": []
   },
   "outputs": [],
   "source": [
    "fruits = ['apple','banana','peach']\n",
    "for fruit in fruits:\n",
    "    print(fruit.upper())"
   ]
  },
  {
   "cell_type": "markdown",
   "id": "d8281454-7b66-4bad-b1d8-25fc28644207",
   "metadata": {},
   "source": [
    "#### While Loops\n",
    "\n",
    "Evaluate as long as a condition is true"
   ]
  },
  {
   "cell_type": "code",
   "execution_count": null,
   "id": "a22d3556-b7d3-4de8-8fe0-9ebb990dff63",
   "metadata": {
    "tags": []
   },
   "outputs": [],
   "source": [
    "count = 5\n",
    "while count > 0:\n",
    "    print(count)\n",
    "    count -= 1"
   ]
  },
  {
   "cell_type": "markdown",
   "id": "c8a7519c-9775-4b95-9149-48bb2fb8cf76",
   "metadata": {},
   "source": [
    "### Applying Control Flows in Data Science"
   ]
  },
  {
   "cell_type": "code",
   "execution_count": null,
   "id": "433dfdb0-b87c-400e-8f9b-e1ead0e1d5c3",
   "metadata": {
    "tags": []
   },
   "outputs": [],
   "source": [
    "import pandas as pd\n",
    "\n",
    "data = pd.DataFrame({\n",
    "    'Temperature': [18, 21, 24, 19, 17],\n",
    "    'Weather': ['rainy','sunny','sunny','cloudy','rainy']\n",
    "})\n",
    "\n",
    "data[data['Weather'] == 'sunny'] # gives me the rows where weather = sunny\n",
    "\n",
    "# what you're putting into the outside data[] argument needs to be a list of True/False statements that is as long as the amount of rows in data\n",
    "# could be written as:\n",
    "\n",
    "# make a selection list of rows (T/F) based on testing each value of Weather\n",
    "list_of_true_false = data['Weather'] == 'sunny'\n",
    "data[list_of_true_false] # give me the data where list_of_true_false is True (i.e. where it is sunny)"
   ]
  }
 ],
 "metadata": {
  "kernelspec": {
   "display_name": "Python 3.10.0",
   "language": "python",
   "name": "python3.10.0"
  },
  "language_info": {
   "codemirror_mode": {
    "name": "ipython",
    "version": 3
   },
   "file_extension": ".py",
   "mimetype": "text/x-python",
   "name": "python",
   "nbconvert_exporter": "python",
   "pygments_lexer": "ipython3",
   "version": "3.10.0"
  }
 },
 "nbformat": 4,
 "nbformat_minor": 5
}
