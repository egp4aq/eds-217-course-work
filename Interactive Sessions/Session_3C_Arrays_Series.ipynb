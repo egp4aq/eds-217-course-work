{
 "cells": [
  {
   "cell_type": "markdown",
   "id": "c6597632-2664-418c-a89e-dd0e0ec261be",
   "metadata": {},
   "source": [
    "# Day 3: Session C - Arrays and Series\n",
    "\n",
    "[Link to session webpage](https://eds-217-essential-python.github.io/course-materials/interactive-sessions/3c_arrays_and_series.html)\n",
    "\n",
    "Date: 9/5/24"
   ]
  },
  {
   "cell_type": "code",
   "execution_count": null,
   "id": "b0aedfab-3b92-41ad-a960-b389dfc1d4c9",
   "metadata": {
    "tags": []
   },
   "outputs": [],
   "source": [
    "import numpy as np\n",
    "import pandas as pd"
   ]
  },
  {
   "cell_type": "markdown",
   "id": "59f84d18-2f0b-4629-be70-dbc0d6eeacf6",
   "metadata": {},
   "source": [
    "## Creating a numpy array"
   ]
  },
  {
   "cell_type": "code",
   "execution_count": null,
   "id": "7ae6d8a5-097c-49d0-92a6-d47ecc84b5c5",
   "metadata": {
    "tags": []
   },
   "outputs": [],
   "source": [
    "# Create a 1-d array (which is a flat list)\n",
    "my_list = [1, 2, 3, 4, 5]\n",
    "my_array = np.array(my_list)\n",
    "print(my_array)\n",
    "print(my_list)\n",
    "print(type(my_array))"
   ]
  },
  {
   "cell_type": "code",
   "execution_count": null,
   "id": "d3c9baf5-5142-4e43-9f5a-49477a2d42e2",
   "metadata": {
    "tags": []
   },
   "outputs": [],
   "source": [
    "# Create a 2-d array\n",
    "my_lists = [[1, 2, 3],[4, 5, 6]]\n",
    "my_arrays = np.array(my_lists)\n",
    "print(my_arrays)\n",
    "print(type(my_arrays))"
   ]
  },
  {
   "cell_type": "markdown",
   "id": "52e3400e-e77a-4569-a65f-ae44d5a01f98",
   "metadata": {},
   "source": [
    "## Basic array operations\n",
    "\n",
    "`min`, `max`, `mean`, etc..."
   ]
  },
  {
   "cell_type": "code",
   "execution_count": null,
   "id": "05bbab17-5dd3-435d-bbbe-686acb69b035",
   "metadata": {
    "tags": []
   },
   "outputs": [],
   "source": [
    "# Global min, max are still around ...\n",
    "min([3,4,5])\n",
    "\n",
    "# But np uses their own methods for basic operation:\n",
    "\n",
    "# Get the min:\n",
    "print(f\"np.min of {my_array}: {np.min(my_array)}\")\n",
    "\n",
    "# Get the max:\n",
    "print(f\"np.max of {my_array}: {np.max(my_array)}\")\n",
    "\n",
    "# Get the mean:\n",
    "print(f\"np.mean of {my_array}: {np.mean(my_array)}\")\n",
    "\n",
    "# Get the standard deviation:\n",
    "print(f\"np.std of {my_array}: {np.std(my_array):.2f}\") # the :.2f cuts the answer off at 2 decimal points\n",
    "\n",
    "# Array transformations:\n",
    "# multiply every element in an array by 2:\n",
    "print(my_array * 2)\n",
    "\n",
    "# add 2 to every element in an array:\n",
    "print(my_array + 2)"
   ]
  },
  {
   "cell_type": "markdown",
   "id": "7fd7fcb5-a6b3-49c7-8e62-6cc24546ffe5",
   "metadata": {},
   "source": [
    "## Using Pandas Series\n",
    "\n",
    "A series is a 1-d labelled array.\n",
    "\n",
    "### Creating a series\n",
    "We create them using the pd.Series() command."
   ]
  },
  {
   "cell_type": "code",
   "execution_count": null,
   "id": "1d81b46a-2f4c-4a4b-9297-4703270208c4",
   "metadata": {
    "tags": []
   },
   "outputs": [],
   "source": [
    "# Create a series from a list:\n",
    "s1 = pd.Series([1,2,3,4,5])\n",
    "print(s1)\n",
    "\n",
    "s2 = pd.Series([10,20,30,40,50], index=['a','b','c','d','e'])\n",
    "print(s2)"
   ]
  },
  {
   "cell_type": "code",
   "execution_count": null,
   "id": "5f56caf0-d954-4f56-87a0-cf77c760144f",
   "metadata": {
    "tags": []
   },
   "outputs": [],
   "source": [
    "s2['a']"
   ]
  },
  {
   "cell_type": "markdown",
   "id": "98ac96c7-0a04-452e-a7a7-769baa3be79a",
   "metadata": {},
   "source": [
    "### Basic Series Operations\n",
    "\n",
    "#### Accessing and Slicing"
   ]
  },
  {
   "cell_type": "code",
   "execution_count": null,
   "id": "c01fb477-9f6d-45f4-8090-393f6059fdc1",
   "metadata": {
    "tags": []
   },
   "outputs": [],
   "source": [
    "# Access based on index value:\n",
    "print(\"The value at index `c`:\", s2['c'])\n",
    "\n",
    "# Access based on location (like a list index position):\n",
    "print(\"The value of the first three elements:\\n\", s2[:3])"
   ]
  },
  {
   "cell_type": "markdown",
   "id": "6826eac4-2b91-4df2-bec8-e144445ad099",
   "metadata": {},
   "source": [
    "#### Arithmetic and Statistics"
   ]
  },
  {
   "cell_type": "code",
   "execution_count": null,
   "id": "58172780-d46f-4556-b280-e9f6ac30771e",
   "metadata": {
    "tags": []
   },
   "outputs": [],
   "source": [
    "# Add 5 to every element:\n",
    "print(s2 + 5)"
   ]
  },
  {
   "cell_type": "code",
   "execution_count": null,
   "id": "4fa705a3-fb2a-4620-af63-bac5996f1e1e",
   "metadata": {
    "tags": []
   },
   "outputs": [],
   "source": [
    "# Calculate the mean:\n",
    "print(s2.mean())\n",
    "\n",
    "# Calculate the standard deviation:\n",
    "print(s2.std())\n",
    "\n",
    "# Calculate the median:\n",
    "print(s2.median())"
   ]
  }
 ],
 "metadata": {
  "kernelspec": {
   "display_name": "Python 3.10.0",
   "language": "python",
   "name": "python3.10.0"
  },
  "language_info": {
   "codemirror_mode": {
    "name": "ipython",
    "version": 3
   },
   "file_extension": ".py",
   "mimetype": "text/x-python",
   "name": "python",
   "nbconvert_exporter": "python",
   "pygments_lexer": "ipython3",
   "version": "3.10.0"
  }
 },
 "nbformat": 4,
 "nbformat_minor": 5
}
