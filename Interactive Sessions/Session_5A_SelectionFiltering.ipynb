{
 "cells": [
  {
   "cell_type": "markdown",
   "id": "dbeb672f-54b5-4297-9080-f6f3d9c4f293",
   "metadata": {},
   "source": [
    "# Basic Pandas Selection and Filtering\n",
    "\n",
    "- filtering is based on rows, based on criteria of the values of the DataFrame\n",
    "- selection is based on columns, not based on a value"
   ]
  },
  {
   "cell_type": "markdown",
   "id": "77eb4a7c-b50e-4f49-a0b9-0404dced3977",
   "metadata": {},
   "source": [
    "## 1. Setup"
   ]
  },
  {
   "cell_type": "code",
   "execution_count": null,
   "id": "cf58834c-dc08-46c7-957e-dd305e51ccdb",
   "metadata": {
    "tags": []
   },
   "outputs": [],
   "source": [
    "import pandas as pd\n",
    "\n",
    "# Load our dataset:\n",
    "url = 'https://bit.ly/eds217-studentdata'\n",
    "\n",
    "df = pd.read_csv(url)"
   ]
  },
  {
   "cell_type": "code",
   "execution_count": null,
   "id": "b7debe33-6c3e-45fe-a2d6-ee7e331c61f0",
   "metadata": {
    "tags": []
   },
   "outputs": [],
   "source": [
    "df.head()"
   ]
  },
  {
   "cell_type": "markdown",
   "id": "d3865d33-00be-4a9d-9bb6-cd087f3b3b4d",
   "metadata": {},
   "source": [
    "## 2. Basic Selection"
   ]
  },
  {
   "cell_type": "code",
   "execution_count": null,
   "id": "cfbbc1cd-157d-408c-9f75-c15c470d4082",
   "metadata": {
    "tags": []
   },
   "outputs": [],
   "source": [
    "# Select a single column from a dataframe and assign it to a Series:\n",
    "majors = df['major']\n",
    "type(majors)\n",
    "\n",
    "# Select multiple columns from a dataframe and assign it to a new dataframe:\n",
    "# Provide a list of columns into the selector/filter brackets:\n",
    "id_majors = df[['student_id','major']]\n",
    "type(id_majors)\n",
    "\n",
    "# We could make a dataframe with just one column by putting major as a list of lists"
   ]
  },
  {
   "cell_type": "markdown",
   "id": "15be9970-d277-40b1-b1bc-3dbcaf5c843b",
   "metadata": {},
   "source": [
    "## 3. Filtering Based on Column Values"
   ]
  },
  {
   "cell_type": "markdown",
   "id": "514f8f66-d81e-4c2a-86b5-c2f884b9144f",
   "metadata": {},
   "source": [
    "### 3a. Single Condition Filtering\n"
   ]
  },
  {
   "cell_type": "code",
   "execution_count": null,
   "id": "c7c31b0d-a999-46dd-b4e0-2b55227c8069",
   "metadata": {
    "tags": []
   },
   "outputs": [],
   "source": [
    "# Filtering on the value of a single condition (usually a single column's values)\n",
    "# Select only rows with gpa > 3.7\n",
    "high_achievers = df[ df['gpa'] > 3.7 ]\n",
    "type(high_achievers)\n",
    "\n",
    "# returns a dataframe"
   ]
  },
  {
   "cell_type": "markdown",
   "id": "d89da975-9c82-4bbe-9558-eb2c96140fdc",
   "metadata": {},
   "source": [
    "### 3b. Multiple Conditions with Logical Operators"
   ]
  },
  {
   "cell_type": "code",
   "execution_count": null,
   "id": "12d8bafa-f6ac-45cd-a9d7-8fb53708e911",
   "metadata": {
    "tags": []
   },
   "outputs": [],
   "source": [
    "# Filtering on the values of multiple conditions (usually multiple column values, but not always)\n",
    "# Find students less than 20 years old, majoring in Mathematics\n",
    "young_math = df[ (df['age'] < 20) & (df['major'] == \"Mathematics\") ]\n",
    "print(young_math)\n",
    "\n",
    "# returns a dataframe"
   ]
  },
  {
   "cell_type": "code",
   "execution_count": null,
   "id": "cab019fe-b04d-45b0-a269-7c19ee6e3f64",
   "metadata": {
    "tags": []
   },
   "outputs": [],
   "source": [
    "# Find students who are either 22 years old or have a GPA of 3.5 exactly:\n",
    "specific_students = df[ (df['age'] == 22) | (df['gpa'] == 3.5)]\n",
    "print(specific_students)"
   ]
  },
  {
   "cell_type": "markdown",
   "id": "1e581f06-6ecc-4c0f-85d1-d92fb7a5d2d1",
   "metadata": {},
   "source": [
    "### 3c. Using the filter command\n",
    "\n",
    "Use the filter command to match specific columns or rows based on labels (column names or index labels)\n",
    "\n",
    "Use the `like` argument to find substrings (especially useful for large dataframes with many columns!)"
   ]
  },
  {
   "cell_type": "code",
   "execution_count": null,
   "id": "91fc8771-bd2d-4426-935c-61d5138a3390",
   "metadata": {
    "tags": []
   },
   "outputs": [],
   "source": [
    "# Filter all the column names that contain the substring 'id':\n",
    "id_columns = df.filter(like='id')\n",
    "\n",
    "# Filter all the rows where the index contains a `5`:\n",
    "rows_with_5 = df.filter(like='5',axis=0)\n",
    "print(rows_with_5)\n",
    "\n",
    "# axis=0 means rows, axis=1 means columns)"
   ]
  },
  {
   "cell_type": "markdown",
   "id": "4ab724e4-a048-4676-b281-7357a19bfff7",
   "metadata": {},
   "source": [
    "The `filter()` command can also take a `regex` argument"
   ]
  },
  {
   "cell_type": "code",
   "execution_count": null,
   "id": "88f0b970-cd3b-4ffe-8655-1e172d2036ea",
   "metadata": {
    "tags": []
   },
   "outputs": [],
   "source": [
    "# Filter column names using a `regex` instead of `like`\n",
    "# Find all the columns that end in the letter `e`:\n",
    "e_ending_cols = df.filter(regex='e$')\n",
    "print(e_ending_cols.head())"
   ]
  },
  {
   "cell_type": "markdown",
   "id": "ed8d887b-8159-405d-8f97-b2af44ab955f",
   "metadata": {},
   "source": [
    "RegexLearn:\n",
    "https://regexlearn.com/learn/regex101"
   ]
  },
  {
   "cell_type": "markdown",
   "id": "eec9d3be-01d4-401b-a995-f44573a36bcb",
   "metadata": {},
   "source": [
    "## 4. Combining Selection and Filtering\n",
    "\n",
    "Use method chaining to append a selection to the results of a filter before assigning it to a new variable\n"
   ]
  },
  {
   "cell_type": "code",
   "execution_count": null,
   "id": "d155e8cd-d749-48f8-af68-df2439a1068e",
   "metadata": {
    "tags": []
   },
   "outputs": [],
   "source": [
    "# Get a list of majors for students under 21 years old:\n",
    "young_majors = df[ df['age'] < 21 ]['major']"
   ]
  },
  {
   "cell_type": "markdown",
   "id": "55b659c7-1981-4df1-9cee-a6419e0130ce",
   "metadata": {},
   "source": [
    "## 5. Using .isin() for Multiple Values\n",
    "\n",
    "`.isin()` is useful for filtering rows that meet any of a list of criteria. For example, filtering by a subset of majors.\n",
    "\n",
    "Most useful for filtering categorical data."
   ]
  },
  {
   "cell_type": "code",
   "execution_count": null,
   "id": "308329fc-9735-4506-a7ec-a248430c45c5",
   "metadata": {
    "tags": []
   },
   "outputs": [],
   "source": [
    "stem_majors = df[ df['major'].isin(['Engineering','Chemistry','Physics']) ]\n",
    "print(stem_majors.head(10))"
   ]
  },
  {
   "cell_type": "markdown",
   "id": "e0f76562-f5b5-4ad1-97bd-42d84755ccae",
   "metadata": {},
   "source": [
    "## 6. Filtering with String Methods\n",
    "\n",
    "Pandas provides string methods that can be used to filter text data."
   ]
  },
  {
   "cell_type": "code",
   "execution_count": null,
   "id": "cb551472-4e50-4e6b-a2ad-c495ac9c2fb1",
   "metadata": {
    "tags": []
   },
   "outputs": [],
   "source": [
    "# dir(df['major']) has str commands"
   ]
  },
  {
   "cell_type": "code",
   "execution_count": null,
   "id": "f6bcfb12-2af5-4ec6-ac1b-9f6c3c7e42af",
   "metadata": {
    "tags": []
   },
   "outputs": [],
   "source": [
    "# Filter majors that contain the word 'Science':\n",
    "science_majors = df[ df['major'].str.contains('Science') ]\n",
    "print(science_majors)\n",
    "\n",
    "# could be really helpful for selecting certain countries/locations"
   ]
  },
  {
   "cell_type": "markdown",
   "id": "830b9de6-4a3f-4081-9e8d-673579669d09",
   "metadata": {},
   "source": [
    "## 7. Advanced Selection: .loc vs .iloc"
   ]
  },
  {
   "cell_type": "code",
   "execution_count": null,
   "id": "383950ff-b150-471b-ace3-fb504b613787",
   "metadata": {},
   "outputs": [],
   "source": [
    "df['String'], df[['list','of','columns']],df[[True,False,True...]]"
   ]
  },
  {
   "cell_type": "markdown",
   "id": "f202d2a5-f6a8-445c-9179-f5694298ce69",
   "metadata": {},
   "source": [
    "## Conclusion"
   ]
  },
  {
   "cell_type": "code",
   "execution_count": null,
   "id": "c7d2028b-7529-47a5-bd3a-e219f4410c6b",
   "metadata": {},
   "outputs": [],
   "source": []
  }
 ],
 "metadata": {
  "kernelspec": {
   "display_name": "Python 3.10.0",
   "language": "python",
   "name": "python3.10.0"
  },
  "language_info": {
   "codemirror_mode": {
    "name": "ipython",
    "version": 3
   },
   "file_extension": ".py",
   "mimetype": "text/x-python",
   "name": "python",
   "nbconvert_exporter": "python",
   "pygments_lexer": "ipython3",
   "version": "3.10.0"
  }
 },
 "nbformat": 4,
 "nbformat_minor": 5
}
